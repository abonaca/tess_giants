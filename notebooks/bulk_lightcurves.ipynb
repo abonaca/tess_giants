{
 "cells": [
  {
   "cell_type": "code",
   "execution_count": 1,
   "metadata": {},
   "outputs": [],
   "source": [
    "import numpy as np\n",
    "import matplotlib as mpl\n",
    "import matplotlib.pyplot as plt\n",
    "%matplotlib inline\n",
    "\n",
    "import astropy.coordinates as coord\n",
    "from astropy.table import Table\n",
    "from astropy.io import fits\n",
    "import astropy.units as u\n",
    "\n",
    "import eleanor"
   ]
  },
  {
   "cell_type": "code",
   "execution_count": 2,
   "metadata": {},
   "outputs": [],
   "source": [
    "plt.style.use('notebook')"
   ]
  },
  {
   "cell_type": "code",
   "execution_count": 3,
   "metadata": {},
   "outputs": [],
   "source": [
    "gid = np.load('../data/giants_ids.npz')['id']"
   ]
  },
  {
   "cell_type": "code",
   "execution_count": 5,
   "metadata": {},
   "outputs": [],
   "source": [
    "N = np.size(gid)"
   ]
  },
  {
   "cell_type": "code",
   "execution_count": 6,
   "metadata": {},
   "outputs": [],
   "source": [
    "def get_source(gid, smax=12):\n",
    "    \"\"\"\n",
    "    Return a list of source objects found across the sectors\n",
    "    gid -- gaia id of the source\n",
    "    smax -- maximum sector id\n",
    "    \"\"\"\n",
    "    sectors = []\n",
    "    for i in range(smax):\n",
    "        try:\n",
    "            s_ = eleanor.Source(gaia=gid, sector=i+1)\n",
    "            sectors += [s_]\n",
    "        except (ValueError, UnicodeDecodeError, IndexError, RuntimeError, TypeError, NameError):\n",
    "            pass\n",
    "    \n",
    "    return sectors"
   ]
  },
  {
   "cell_type": "code",
   "execution_count": 10,
   "metadata": {},
   "outputs": [],
   "source": [
    "def get_fluxes(sectors, height=15, width=15, bkg_size=31, do_psf=False, do_pca=False):\n",
    "    \"\"\"\n",
    "    Return a list of TargetData objects for each sector the source was observed\n",
    "    sectors -- list of Source objects across the sectors\n",
    "    height, width, bkg_size -- parameters for eleanor photometering\n",
    "    do_psf, do_pca -- flags for additional eleanor analysis\n",
    "    \"\"\"\n",
    "    data = []\n",
    "    for s in sectors:\n",
    "        try:\n",
    "            d = eleanor.TargetData(s, height=height, width=width, bkg_size=bkg_size, do_psf=do_psf, do_pca=do_pca)\n",
    "            data += [d]\n",
    "        except (np.linalg.LinAlgError, ValueError, IndexError, RuntimeError, TypeError, NameError):\n",
    "            pass\n",
    "    \n",
    "    return data"
   ]
  },
  {
   "cell_type": "code",
   "execution_count": 26,
   "metadata": {},
   "outputs": [],
   "source": [
    "def extract_lightcurve(data):\n",
    "    \"\"\"\n",
    "    Return a dictionary with extracted time, sector id, raw, corrected, and normalized fluxes\n",
    "    data -- a list of TargetData objects across sectors\n",
    "    \"\"\"\n",
    "    t = []\n",
    "    fcorr = []\n",
    "    fnorm = []\n",
    "    fraw = []\n",
    "    sector_id = []\n",
    "\n",
    "    for e, d in enumerate(data):\n",
    "        q = d.quality == 0\n",
    "        \n",
    "        t = np.concatenate([t, d.time[q]])\n",
    "        fraw = np.concatenate([fcorr, d.raw_flux[q]])\n",
    "        fcorr = np.concatenate([fcorr, d.corr_flux[q]])\n",
    "        fnorm = np.concatenate([fnorm, d.corr_flux[q]/np.nanmedian(d.corr_flux[q])])\n",
    "        \n",
    "        sector_id = np.concatenate([sector_id, np.ones(np.sum(q))*e])\n",
    "\n",
    "    outdict = {}\n",
    "    outdict['t'] = t*u.day\n",
    "    outdict['fraw'] = fraw\n",
    "    outdict['fcorr'] = fcorr\n",
    "    outdict['fnorm'] = fnorm\n",
    "    outdict['sector_id'] = sector_id.astype('int')\n",
    "    \n",
    "    return outdict"
   ]
  },
  {
   "cell_type": "code",
   "execution_count": 35,
   "metadata": {},
   "outputs": [
    {
     "name": "stdout",
     "output_type": "stream",
     "text": [
      "1 4793052149352862080\n",
      "INFO: Found cached file /home/ana/.eleanor/mastDownload/HLSP/hlsp_eleanor_tess_ffi_postcard-s0004-4-1-cal-0510-0052_tess_v2_pc/hlsp_eleanor_tess_ffi_postcard-s0004-4-1-cal-0510-0052_tess_v2_bkg.fits with expected size 65286720. [astroquery.query]\n",
      "INFO: Found cached file /home/ana/.eleanor/mastDownload/HLSP/hlsp_eleanor_tess_ffi_postcard-s0004-4-1-cal-0510-0052_tess_v2_pc/hlsp_eleanor_tess_ffi_postcard-s0004-4-1-cal-0510-0052_tess_v2_pc.fits with expected size 130665600. [astroquery.query]\n",
      "INFO: Found cached file /home/ana/.eleanor/mastDownload/HLSP/hlsp_eleanor_tess_ffi_postcard-s0005-3-4-cal-0510-0484_tess_v2_pc/hlsp_eleanor_tess_ffi_postcard-s0005-3-4-cal-0510-0484_tess_v2_bkg.fits with expected size 73658880. [astroquery.query]\n",
      "INFO: Found cached file /home/ana/.eleanor/mastDownload/HLSP/hlsp_eleanor_tess_ffi_postcard-s0005-3-4-cal-0510-0484_tess_v2_pc/hlsp_eleanor_tess_ffi_postcard-s0005-3-4-cal-0510-0484_tess_v2_pc.fits with expected size 147421440. [astroquery.query]\n",
      "INFO: Found cached file /home/ana/.eleanor/mastDownload/HLSP/hlsp_eleanor_tess_ffi_postcard-s0006-3-3-cal-1490-0430_tess_v2_pc/hlsp_eleanor_tess_ffi_postcard-s0006-3-3-cal-1490-0430_tess_v2_bkg.fits with expected size 61162560. [astroquery.query]\n",
      "INFO: Found cached file /home/ana/.eleanor/mastDownload/HLSP/hlsp_eleanor_tess_ffi_postcard-s0006-3-3-cal-1490-0430_tess_v2_pc/hlsp_eleanor_tess_ffi_postcard-s0006-3-3-cal-1490-0430_tess_v2_pc.fits with expected size 122411520. [astroquery.query]\n",
      "INFO: Found cached file /home/ana/.eleanor/mastDownload/HLSP/hlsp_eleanor_tess_ffi_postcard-s0007-4-2-cal-1784-0160_tess_v2_pc/hlsp_eleanor_tess_ffi_postcard-s0007-4-2-cal-1784-0160_tess_v2_bkg.fits with expected size 67317120. [astroquery.query]\n",
      "INFO: Found cached file /home/ana/.eleanor/mastDownload/HLSP/hlsp_eleanor_tess_ffi_postcard-s0007-4-2-cal-1784-0160_tess_v2_pc/hlsp_eleanor_tess_ffi_postcard-s0007-4-2-cal-1784-0160_tess_v2_pc.fits with expected size 134729280. [astroquery.query]\n",
      "4\n"
     ]
    },
    {
     "name": "stderr",
     "output_type": "stream",
     "text": [
      "WARNING: FITSFixedWarning: 'datfix' made the change 'Set MJD-OBS to 58410.416912 from DATE-OBS.\n",
      "Set DATE-BEG to '2018-10-19T10:01:30.391' from MJD-BEG'. [astropy.wcs.wcs]\n",
      "WARNING: The \"exact\" method is not yet implemented for rectangular apertures -- using \"subpixel\" method with \"subpixels=32\" [photutils.aperture.core]\n"
     ]
    },
    {
     "name": "stdout",
     "output_type": "stream",
     "text": [
      "5\n"
     ]
    },
    {
     "name": "stderr",
     "output_type": "stream",
     "text": [
      "WARNING: FITSFixedWarning: 'datfix' made the change 'Set MJD-OBS to 58437.480487 from DATE-OBS.\n",
      "Set DATE-BEG to '2018-11-15T11:33:03.241' from MJD-BEG'. [astropy.wcs.wcs]\n",
      "WARNING: The \"exact\" method is not yet implemented for rectangular apertures -- using \"subpixel\" method with \"subpixels=32\" [photutils.aperture.core]\n"
     ]
    },
    {
     "name": "stdout",
     "output_type": "stream",
     "text": [
      "6\n"
     ]
    },
    {
     "name": "stderr",
     "output_type": "stream",
     "text": [
      "WARNING: FITSFixedWarning: 'datfix' made the change 'Set MJD-OBS to 58467.772405 from DATE-OBS.\n",
      "Set DATE-BEG to '2018-12-15T18:33:25.007' from MJD-BEG'. [astropy.wcs.wcs]\n",
      "WARNING: The \"exact\" method is not yet implemented for rectangular apertures -- using \"subpixel\" method with \"subpixels=32\" [photutils.aperture.core]\n"
     ]
    },
    {
     "name": "stdout",
     "output_type": "stream",
     "text": [
      "7\n"
     ]
    },
    {
     "name": "stderr",
     "output_type": "stream",
     "text": [
      "WARNING: FITSFixedWarning: 'datfix' made the change 'Set MJD-OBS to 58491.125471 from DATE-OBS.\n",
      "Set DATE-BEG to '2019-01-08T03:01:49.860' from MJD-BEG'. [astropy.wcs.wcs]\n",
      "WARNING: The \"exact\" method is not yet implemented for rectangular apertures -- using \"subpixel\" method with \"subpixels=32\" [photutils.aperture.core]\n"
     ]
    },
    {
     "name": "stdout",
     "output_type": "stream",
     "text": [
      "2 5266286764318335872\n",
      "Downloading URL https://mast.stsci.edu/api/v0.1/Download/file?uri=mast:HLSP/eleanor/postcards/s0001/4-2/hlsp_eleanor_tess_ffi_postcard-s0001-4-2-cal-0804-1672_tess_v2_bkg.fits to /home/ana/.eleanor/mastDownload/HLSP/hlsp_eleanor_tess_ffi_postcard-s0001-4-2-cal-0804-1672_tess_v2_pc/hlsp_eleanor_tess_ffi_postcard-s0001-4-2-cal-0804-1672_tess_v2_bkg.fits ... [Done]\n",
      "Downloading URL https://mast.stsci.edu/api/v0.1/Download/file?uri=mast:HLSP/eleanor/postcards/s0001/4-2/hlsp_eleanor_tess_ffi_postcard-s0001-4-2-cal-0804-1672_tess_v2_pc.fits to /home/ana/.eleanor/mastDownload/HLSP/hlsp_eleanor_tess_ffi_postcard-s0001-4-2-cal-0804-1672_tess_v2_pc/hlsp_eleanor_tess_ffi_postcard-s0001-4-2-cal-0804-1672_tess_v2_pc.fits ... [Done]\n",
      "Downloading URL https://mast.stsci.edu/tesscut/api/v0.1/astrocut?ra=68.95970833333332&dec=-64.02703611111112&y=31&x=31&units=px&sector=3 to ./tesscut_20200318165422.zip ... [Done]\n",
      "Inflating...\n",
      "This is the first light curve you have made for this sector. Getting eleanor metadata products for Sector  3...\n",
      "This will only take a minute, and only needs to be done once. Any other light curves you make in this sector will be faster.\n",
      "Target Acquired\n",
      "Cadences Calculated\n",
      "Quality Flags Assured\n",
      "CBVs Made\n",
      "Success! Sector  3 now available.\n",
      "Downloading URL https://mast.stsci.edu/api/v0.1/Download/file?uri=mast:HLSP/eleanor/postcards/s0003/4-3/hlsp_eleanor_tess_ffi_postcard-s0003-4-3-cal-1294-1672_tess_v2_bkg.fits to /home/ana/.eleanor/mastDownload/HLSP/hlsp_eleanor_tess_ffi_postcard-s0003-4-3-cal-1294-1672_tess_v2_pc/hlsp_eleanor_tess_ffi_postcard-s0003-4-3-cal-1294-1672_tess_v2_bkg.fits ... [Done]\n",
      "Downloading URL https://mast.stsci.edu/api/v0.1/Download/file?uri=mast:HLSP/eleanor/postcards/s0003/4-3/hlsp_eleanor_tess_ffi_postcard-s0003-4-3-cal-1294-1672_tess_v2_pc.fits to /home/ana/.eleanor/mastDownload/HLSP/hlsp_eleanor_tess_ffi_postcard-s0003-4-3-cal-1294-1672_tess_v2_pc/hlsp_eleanor_tess_ffi_postcard-s0003-4-3-cal-1294-1672_tess_v2_pc.fits ... [Done]\n",
      "Downloading URL https://mast.stsci.edu/api/v0.1/Download/file?uri=mast:HLSP/eleanor/postcards/s0003/4-3/hlsp_eleanor_tess_ffi_postcard-s0003-4-3_tess_v2_pm.txt to /home/ana/.eleanor/mastDownload/HLSP/hlsp_eleanor_tess_ffi_postcard-s0003-4-3-cal-1294-1672_tess_v2_pc/hlsp_eleanor_tess_ffi_postcard-s0003-4-3_tess_v2_pm.txt ... [Done]\n",
      "Downloading URL https://mast.stsci.edu/api/v0.1/Download/file?uri=mast:HLSP/eleanor/postcards/s0004/4-3/hlsp_eleanor_tess_ffi_postcard-s0004-4-3-cal-1588-1348_tess_v2_bkg.fits to /home/ana/.eleanor/mastDownload/HLSP/hlsp_eleanor_tess_ffi_postcard-s0004-4-3-cal-1588-1348_tess_v2_pc/hlsp_eleanor_tess_ffi_postcard-s0004-4-3-cal-1588-1348_tess_v2_bkg.fits ... [Done]\n",
      "Downloading URL https://mast.stsci.edu/api/v0.1/Download/file?uri=mast:HLSP/eleanor/postcards/s0004/4-3/hlsp_eleanor_tess_ffi_postcard-s0004-4-3-cal-1588-1348_tess_v2_pc.fits to /home/ana/.eleanor/mastDownload/HLSP/hlsp_eleanor_tess_ffi_postcard-s0004-4-3-cal-1588-1348_tess_v2_pc/hlsp_eleanor_tess_ffi_postcard-s0004-4-3-cal-1588-1348_tess_v2_pc.fits ... [Done]\n"
     ]
    },
    {
     "name": "stderr",
     "output_type": "stream",
     "text": [
      "WARNING: NoResultsWarning: Query returned no results. [astroquery.mast.core]\n"
     ]
    },
    {
     "name": "stdout",
     "output_type": "stream",
     "text": [
      "No eleanor postcard has been made for your target (yet). Using TessCut instead.\n",
      "Downloading URL https://mast.stsci.edu/tesscut/api/v0.1/astrocut?ra=95.40052260599403&dec=-71.76326648478445&y=31&x=31&units=px&sector=5 to /home/ana/.eleanor/tesscut/tesscut_20200318165758.zip ... [Done]\n",
      "Inflating...\n",
      "Downloading URL https://mast.stsci.edu/api/v0.1/Download/file?uri=mast:HLSP/eleanor/postcards/s0006/4-4/hlsp_eleanor_tess_ffi_postcard-s0006-4-4-cal-0314-1240_tess_v2_bkg.fits to /home/ana/.eleanor/mastDownload/HLSP/hlsp_eleanor_tess_ffi_postcard-s0006-4-4-cal-0314-1240_tess_v2_pc/hlsp_eleanor_tess_ffi_postcard-s0006-4-4-cal-0314-1240_tess_v2_bkg.fits ... [Done]\n",
      "Downloading URL https://mast.stsci.edu/api/v0.1/Download/file?uri=mast:HLSP/eleanor/postcards/s0006/4-4/hlsp_eleanor_tess_ffi_postcard-s0006-4-4-cal-0314-1240_tess_v2_pc.fits to /home/ana/.eleanor/mastDownload/HLSP/hlsp_eleanor_tess_ffi_postcard-s0006-4-4-cal-0314-1240_tess_v2_pc/hlsp_eleanor_tess_ffi_postcard-s0006-4-4-cal-0314-1240_tess_v2_pc.fits ... [Done]\n",
      "Downloading URL https://mast.stsci.edu/api/v0.1/Download/file?uri=mast:HLSP/eleanor/postcards/s0006/4-4/hlsp_eleanor_tess_ffi_postcard-s0006-4-4_tess_v2_pm.txt to /home/ana/.eleanor/mastDownload/HLSP/hlsp_eleanor_tess_ffi_postcard-s0006-4-4-cal-0314-1240_tess_v2_pc/hlsp_eleanor_tess_ffi_postcard-s0006-4-4_tess_v2_pm.txt ... [Done]\n",
      "Downloading URL https://mast.stsci.edu/api/v0.1/Download/file?uri=mast:HLSP/eleanor/postcards/s0007/4-4/hlsp_eleanor_tess_ffi_postcard-s0007-4-4-cal-0706-1456_tess_v2_bkg.fits to /home/ana/.eleanor/mastDownload/HLSP/hlsp_eleanor_tess_ffi_postcard-s0007-4-4-cal-0706-1456_tess_v2_pc/hlsp_eleanor_tess_ffi_postcard-s0007-4-4-cal-0706-1456_tess_v2_bkg.fits ... [Done]\n",
      "Downloading URL https://mast.stsci.edu/api/v0.1/Download/file?uri=mast:HLSP/eleanor/postcards/s0007/4-4/hlsp_eleanor_tess_ffi_postcard-s0007-4-4-cal-0706-1456_tess_v2_pc.fits to /home/ana/.eleanor/mastDownload/HLSP/hlsp_eleanor_tess_ffi_postcard-s0007-4-4-cal-0706-1456_tess_v2_pc/hlsp_eleanor_tess_ffi_postcard-s0007-4-4-cal-0706-1456_tess_v2_pc.fits ... [Done]\n",
      "Downloading URL https://mast.stsci.edu/api/v0.1/Download/file?uri=mast:HLSP/eleanor/postcards/s0008/4-4/hlsp_eleanor_tess_ffi_postcard-s0008-4-4-cal-0902-1834_tess_v2_bkg.fits to /home/ana/.eleanor/mastDownload/HLSP/hlsp_eleanor_tess_ffi_postcard-s0008-4-4-cal-0902-1834_tess_v2_pc/hlsp_eleanor_tess_ffi_postcard-s0008-4-4-cal-0902-1834_tess_v2_bkg.fits ... [Done]\n",
      "Downloading URL https://mast.stsci.edu/api/v0.1/Download/file?uri=mast:HLSP/eleanor/postcards/s0008/4-4/hlsp_eleanor_tess_ffi_postcard-s0008-4-4-cal-0902-1834_tess_v2_pc.fits to /home/ana/.eleanor/mastDownload/HLSP/hlsp_eleanor_tess_ffi_postcard-s0008-4-4-cal-0902-1834_tess_v2_pc/hlsp_eleanor_tess_ffi_postcard-s0008-4-4-cal-0902-1834_tess_v2_pc.fits ... [Done]\n",
      "Downloading URL https://mast.stsci.edu/api/v0.1/Download/file?uri=mast:HLSP/eleanor/postcards/s0009/4-1/hlsp_eleanor_tess_ffi_postcard-s0009-4-1-cal-1196-1942_tess_v2_bkg.fits to /home/ana/.eleanor/mastDownload/HLSP/hlsp_eleanor_tess_ffi_postcard-s0009-4-1-cal-1196-1942_tess_v2_pc/hlsp_eleanor_tess_ffi_postcard-s0009-4-1-cal-1196-1942_tess_v2_bkg.fits ... [Done]\n",
      "Downloading URL https://mast.stsci.edu/api/v0.1/Download/file?uri=mast:HLSP/eleanor/postcards/s0009/4-1/hlsp_eleanor_tess_ffi_postcard-s0009-4-1-cal-1196-1942_tess_v2_pc.fits to /home/ana/.eleanor/mastDownload/HLSP/hlsp_eleanor_tess_ffi_postcard-s0009-4-1-cal-1196-1942_tess_v2_pc/hlsp_eleanor_tess_ffi_postcard-s0009-4-1-cal-1196-1942_tess_v2_pc.fits ... [Done]\n",
      "Downloading URL https://mast.stsci.edu/api/v0.1/Download/file?uri=mast:HLSP/eleanor/postcards/s0009/4-1/hlsp_eleanor_tess_ffi_postcard-s0009-4-1_tess_v2_pm.txt to /home/ana/.eleanor/mastDownload/HLSP/hlsp_eleanor_tess_ffi_postcard-s0009-4-1-cal-1196-1942_tess_v2_pc/hlsp_eleanor_tess_ffi_postcard-s0009-4-1_tess_v2_pm.txt ... [Done]\n",
      "Downloading URL https://mast.stsci.edu/api/v0.1/Download/file?uri=mast:HLSP/eleanor/postcards/s0010/4-1/hlsp_eleanor_tess_ffi_postcard-s0010-4-1-cal-1392-1510_tess_v2_bkg.fits to /home/ana/.eleanor/mastDownload/HLSP/hlsp_eleanor_tess_ffi_postcard-s0010-4-1-cal-1392-1510_tess_v2_pc/hlsp_eleanor_tess_ffi_postcard-s0010-4-1-cal-1392-1510_tess_v2_bkg.fits ... [Done]\n",
      "Downloading URL https://mast.stsci.edu/api/v0.1/Download/file?uri=mast:HLSP/eleanor/postcards/s0010/4-1/hlsp_eleanor_tess_ffi_postcard-s0010-4-1-cal-1392-1510_tess_v2_pc.fits to /home/ana/.eleanor/mastDownload/HLSP/hlsp_eleanor_tess_ffi_postcard-s0010-4-1-cal-1392-1510_tess_v2_pc/hlsp_eleanor_tess_ffi_postcard-s0010-4-1-cal-1392-1510_tess_v2_pc.fits ... [Done]\n",
      "Downloading URL https://mast.stsci.edu/api/v0.1/Download/file?uri=mast:HLSP/eleanor/postcards/s0011/4-1/hlsp_eleanor_tess_ffi_postcard-s0011-4-1-cal-1686-1240_tess_v2_bkg.fits to /home/ana/.eleanor/mastDownload/HLSP/hlsp_eleanor_tess_ffi_postcard-s0011-4-1-cal-1686-1240_tess_v2_pc/hlsp_eleanor_tess_ffi_postcard-s0011-4-1-cal-1686-1240_tess_v2_bkg.fits ... [Done]\n",
      "Downloading URL https://mast.stsci.edu/api/v0.1/Download/file?uri=mast:HLSP/eleanor/postcards/s0011/4-1/hlsp_eleanor_tess_ffi_postcard-s0011-4-1-cal-1686-1240_tess_v2_pc.fits to /home/ana/.eleanor/mastDownload/HLSP/hlsp_eleanor_tess_ffi_postcard-s0011-4-1-cal-1686-1240_tess_v2_pc/hlsp_eleanor_tess_ffi_postcard-s0011-4-1-cal-1686-1240_tess_v2_pc.fits ... [Done]\n",
      "Downloading URL https://mast.stsci.edu/tesscut/api/v0.1/astrocut?ra=68.95970833333332&dec=-64.02703611111112&y=31&x=31&units=px&sector=13 to ./tesscut_20200318170532.zip ... [Done]\n",
      "Inflating...\n",
      "This is the first light curve you have made for this sector. Getting eleanor metadata products for Sector 13...\n",
      "This will only take a minute, and only needs to be done once. Any other light curves you make in this sector will be faster.\n",
      "Target Acquired\n",
      "Cadences Calculated\n",
      "Quality Flags Assured\n",
      "CBVs Made\n",
      "Success! Sector 13 now available.\n",
      "Downloading URL https://mast.stsci.edu/api/v0.1/Download/file?uri=mast:HLSP/eleanor/postcards/s0013/4-2/hlsp_eleanor_tess_ffi_postcard-s0013-4-2-cal-0412-1240_tess_v2_bkg.fits to /home/ana/.eleanor/mastDownload/HLSP/hlsp_eleanor_tess_ffi_postcard-s0013-4-2-cal-0412-1240_tess_v2_pc/hlsp_eleanor_tess_ffi_postcard-s0013-4-2-cal-0412-1240_tess_v2_bkg.fits ... [Done]\n",
      "Downloading URL https://mast.stsci.edu/api/v0.1/Download/file?uri=mast:HLSP/eleanor/postcards/s0013/4-2/hlsp_eleanor_tess_ffi_postcard-s0013-4-2-cal-0412-1240_tess_v2_pc.fits to /home/ana/.eleanor/mastDownload/HLSP/hlsp_eleanor_tess_ffi_postcard-s0013-4-2-cal-0412-1240_tess_v2_pc/hlsp_eleanor_tess_ffi_postcard-s0013-4-2-cal-0412-1240_tess_v2_pc.fits ... [Done]\n",
      "Downloading URL https://mast.stsci.edu/api/v0.1/Download/file?uri=mast:HLSP/eleanor/postcards/s0013/4-2/hlsp_eleanor_tess_ffi_postcard-s0013-4-2_tess_v2_pm.txt to /home/ana/.eleanor/mastDownload/HLSP/hlsp_eleanor_tess_ffi_postcard-s0013-4-2-cal-0412-1240_tess_v2_pc/hlsp_eleanor_tess_ffi_postcard-s0013-4-2_tess_v2_pm.txt ... [Done]\n",
      "1\n"
     ]
    },
    {
     "name": "stderr",
     "output_type": "stream",
     "text": [
      "WARNING: FITSFixedWarning: 'datfix' made the change 'Set MJD-OBS to 58324.813055 from DATE-OBS.\n",
      "Set DATE-BEG to '2018-07-25T19:31:57.119' from MJD-BEG'. [astropy.wcs.wcs]\n",
      "WARNING: The \"exact\" method is not yet implemented for rectangular apertures -- using \"subpixel\" method with \"subpixels=32\" [photutils.aperture.core]\n"
     ]
    },
    {
     "name": "stdout",
     "output_type": "stream",
     "text": [
      "3\n"
     ]
    },
    {
     "name": "stderr",
     "output_type": "stream",
     "text": [
      "WARNING: FITSFixedWarning: 'datfix' made the change 'Set MJD-OBS to 58381.540973 from DATE-OBS.\n",
      "Set DATE-BEG to '2018-09-20T13:00:09.232' from MJD-BEG'. [astropy.wcs.wcs]\n",
      "WARNING: The \"exact\" method is not yet implemented for rectangular apertures -- using \"subpixel\" method with \"subpixels=32\" [photutils.aperture.core]\n"
     ]
    },
    {
     "name": "stdout",
     "output_type": "stream",
     "text": [
      "4\n"
     ]
    },
    {
     "name": "stderr",
     "output_type": "stream",
     "text": [
      "WARNING: FITSFixedWarning: 'datfix' made the change 'Set MJD-OBS to 58410.415955 from DATE-OBS.\n",
      "Set DATE-BEG to '2018-10-19T10:00:07.686' from MJD-BEG'. [astropy.wcs.wcs]\n",
      "WARNING: The \"exact\" method is not yet implemented for rectangular apertures -- using \"subpixel\" method with \"subpixels=32\" [photutils.aperture.core]\n"
     ]
    },
    {
     "name": "stdout",
     "output_type": "stream",
     "text": [
      "5\n"
     ]
    },
    {
     "name": "stderr",
     "output_type": "stream",
     "text": [
      "WARNING: The \"exact\" method is not yet implemented for rectangular apertures -- using \"subpixel\" method with \"subpixels=32\" [photutils.aperture.core]\n"
     ]
    },
    {
     "name": "stdout",
     "output_type": "stream",
     "text": [
      "6\n"
     ]
    },
    {
     "name": "stderr",
     "output_type": "stream",
     "text": [
      "WARNING: FITSFixedWarning: 'datfix' made the change 'Set MJD-OBS to 58467.769873 from DATE-OBS.\n",
      "Set DATE-BEG to '2018-12-15T18:29:46.237' from MJD-BEG'. [astropy.wcs.wcs]\n",
      "WARNING: The \"exact\" method is not yet implemented for rectangular apertures -- using \"subpixel\" method with \"subpixels=32\" [photutils.aperture.core]\n"
     ]
    },
    {
     "name": "stdout",
     "output_type": "stream",
     "text": [
      "7\n"
     ]
    },
    {
     "name": "stderr",
     "output_type": "stream",
     "text": [
      "WARNING: FITSFixedWarning: 'datfix' made the change 'Set MJD-OBS to 58491.123983 from DATE-OBS.\n",
      "Set DATE-BEG to '2019-01-08T02:59:41.285' from MJD-BEG'. [astropy.wcs.wcs]\n",
      "WARNING: The \"exact\" method is not yet implemented for rectangular apertures -- using \"subpixel\" method with \"subpixels=32\" [photutils.aperture.core]\n"
     ]
    },
    {
     "name": "stdout",
     "output_type": "stream",
     "text": [
      "8\n"
     ]
    },
    {
     "name": "stderr",
     "output_type": "stream",
     "text": [
      "WARNING: FITSFixedWarning: 'datfix' made the change 'Set MJD-OBS to 58516.853135 from DATE-OBS.\n",
      "Set DATE-BEG to '2019-02-02T20:29:40.053' from MJD-BEG'. [astropy.wcs.wcs]\n",
      "WARNING: The \"exact\" method is not yet implemented for rectangular apertures -- using \"subpixel\" method with \"subpixels=32\" [photutils.aperture.core]\n"
     ]
    },
    {
     "name": "stdout",
     "output_type": "stream",
     "text": [
      "9\n",
      "INFO: \n",
      "                Inconsistent SIP distortion information is present in the FITS header and the WCS object:\n",
      "                SIP coefficients were detected, but CTYPE is missing a \"-SIP\" suffix.\n",
      "                astropy.wcs is using the SIP distortion coefficients,\n",
      "                therefore the coordinates calculated here might be incorrect.\n",
      "\n",
      "                If you do not want to apply the SIP distortion coefficients,\n",
      "                please remove the SIP coefficients from the FITS header or the\n",
      "                WCS object.  As an example, if the image is already distortion-corrected\n",
      "                (e.g., drizzled) then distortion components should not apply and the SIP\n",
      "                coefficients should be removed.\n",
      "\n",
      "                While the SIP distortion coefficients are being applied here, if that was indeed the intent,\n",
      "                for consistency please append \"-SIP\" to the CTYPE in the FITS header or the WCS object.\n",
      "\n",
      "                 [astropy.wcs.wcs]\n"
     ]
    },
    {
     "name": "stderr",
     "output_type": "stream",
     "text": [
      "WARNING: FITSFixedWarning: 'datfix' made the change 'Set MJD-OBS to 58542.729338 from DATE-OBS.\n",
      "Set DATE-BEG to '2019-02-28T17:31:23.974' from MJD-BEG'. [astropy.wcs.wcs]\n",
      "WARNING: The \"exact\" method is not yet implemented for rectangular apertures -- using \"subpixel\" method with \"subpixels=32\" [photutils.aperture.core]\n"
     ]
    },
    {
     "name": "stdout",
     "output_type": "stream",
     "text": [
      "10\n",
      "INFO: \n",
      "                Inconsistent SIP distortion information is present in the FITS header and the WCS object:\n",
      "                SIP coefficients were detected, but CTYPE is missing a \"-SIP\" suffix.\n",
      "                astropy.wcs is using the SIP distortion coefficients,\n",
      "                therefore the coordinates calculated here might be incorrect.\n",
      "\n",
      "                If you do not want to apply the SIP distortion coefficients,\n",
      "                please remove the SIP coefficients from the FITS header or the\n",
      "                WCS object.  As an example, if the image is already distortion-corrected\n",
      "                (e.g., drizzled) then distortion components should not apply and the SIP\n",
      "                coefficients should be removed.\n",
      "\n",
      "                While the SIP distortion coefficients are being applied here, if that was indeed the intent,\n",
      "                for consistency please append \"-SIP\" to the CTYPE in the FITS header or the WCS object.\n",
      "\n",
      "                 [astropy.wcs.wcs]\n"
     ]
    },
    {
     "name": "stderr",
     "output_type": "stream",
     "text": [
      "WARNING: FITSFixedWarning: 'datfix' made the change 'Set MJD-OBS to 58568.937658 from DATE-OBS.\n",
      "Set DATE-BEG to '2019-03-26T22:31:22.810' from MJD-BEG'. [astropy.wcs.wcs]\n",
      "WARNING: The \"exact\" method is not yet implemented for rectangular apertures -- using \"subpixel\" method with \"subpixels=32\" [photutils.aperture.core]\n"
     ]
    },
    {
     "name": "stdout",
     "output_type": "stream",
     "text": [
      "11\n",
      "INFO: \n",
      "                Inconsistent SIP distortion information is present in the FITS header and the WCS object:\n",
      "                SIP coefficients were detected, but CTYPE is missing a \"-SIP\" suffix.\n",
      "                astropy.wcs is using the SIP distortion coefficients,\n",
      "                therefore the coordinates calculated here might be incorrect.\n",
      "\n",
      "                If you do not want to apply the SIP distortion coefficients,\n",
      "                please remove the SIP coefficients from the FITS header or the\n",
      "                WCS object.  As an example, if the image is already distortion-corrected\n",
      "                (e.g., drizzled) then distortion components should not apply and the SIP\n",
      "                coefficients should be removed.\n",
      "\n",
      "                While the SIP distortion coefficients are being applied here, if that was indeed the intent,\n",
      "                for consistency please append \"-SIP\" to the CTYPE in the FITS header or the WCS object.\n",
      "\n",
      "                 [astropy.wcs.wcs]\n"
     ]
    },
    {
     "name": "stderr",
     "output_type": "stream",
     "text": [
      "WARNING: FITSFixedWarning: 'datfix' made the change 'Set MJD-OBS to 58596.270977 from DATE-OBS.\n",
      "Set DATE-BEG to '2019-04-23T06:31:21.612' from MJD-BEG'. [astropy.wcs.wcs]\n",
      "WARNING: The \"exact\" method is not yet implemented for rectangular apertures -- using \"subpixel\" method with \"subpixels=32\" [photutils.aperture.core]\n"
     ]
    },
    {
     "name": "stdout",
     "output_type": "stream",
     "text": [
      "13\n",
      "INFO: \n",
      "                Inconsistent SIP distortion information is present in the FITS header and the WCS object:\n",
      "                SIP coefficients were detected, but CTYPE is missing a \"-SIP\" suffix.\n",
      "                astropy.wcs is using the SIP distortion coefficients,\n",
      "                therefore the coordinates calculated here might be incorrect.\n",
      "\n",
      "                If you do not want to apply the SIP distortion coefficients,\n",
      "                please remove the SIP coefficients from the FITS header or the\n",
      "                WCS object.  As an example, if the image is already distortion-corrected\n",
      "                (e.g., drizzled) then distortion components should not apply and the SIP\n",
      "                coefficients should be removed.\n",
      "\n",
      "                While the SIP distortion coefficients are being applied here, if that was indeed the intent,\n",
      "                for consistency please append \"-SIP\" to the CTYPE in the FITS header or the WCS object.\n",
      "\n",
      "                 [astropy.wcs.wcs]\n"
     ]
    },
    {
     "name": "stderr",
     "output_type": "stream",
     "text": [
      "WARNING: FITSFixedWarning: 'datfix' made the change 'Set MJD-OBS to 58653.417091 from DATE-OBS.\n",
      "Set DATE-BEG to '2019-06-19T10:01:45.855' from MJD-BEG'. [astropy.wcs.wcs]\n",
      "WARNING: The \"exact\" method is not yet implemented for rectangular apertures -- using \"subpixel\" method with \"subpixels=32\" [photutils.aperture.core]\n"
     ]
    },
    {
     "name": "stdout",
     "output_type": "stream",
     "text": [
      "3 4793241918187803520\n",
      "INFO: Found cached file /home/ana/.eleanor/mastDownload/HLSP/hlsp_eleanor_tess_ffi_postcard-s0004-4-1-cal-0510-0052_tess_v2_pc/hlsp_eleanor_tess_ffi_postcard-s0004-4-1-cal-0510-0052_tess_v2_bkg.fits with expected size 65286720. [astroquery.query]\n",
      "INFO: Found cached file /home/ana/.eleanor/mastDownload/HLSP/hlsp_eleanor_tess_ffi_postcard-s0004-4-1-cal-0510-0052_tess_v2_pc/hlsp_eleanor_tess_ffi_postcard-s0004-4-1-cal-0510-0052_tess_v2_pc.fits with expected size 130665600. [astroquery.query]\n",
      "Downloading URL https://mast.stsci.edu/api/v0.1/Download/file?uri=mast:HLSP/eleanor/postcards/s0005/3-4/hlsp_eleanor_tess_ffi_postcard-s0005-3-4-cal-0412-0484_tess_v2_bkg.fits to /home/ana/.eleanor/mastDownload/HLSP/hlsp_eleanor_tess_ffi_postcard-s0005-3-4-cal-0412-0484_tess_v2_pc/hlsp_eleanor_tess_ffi_postcard-s0005-3-4-cal-0412-0484_tess_v2_bkg.fits ... [Done]\n",
      "Downloading URL https://mast.stsci.edu/api/v0.1/Download/file?uri=mast:HLSP/eleanor/postcards/s0005/3-4/hlsp_eleanor_tess_ffi_postcard-s0005-3-4-cal-0412-0484_tess_v2_pc.fits to /home/ana/.eleanor/mastDownload/HLSP/hlsp_eleanor_tess_ffi_postcard-s0005-3-4-cal-0412-0484_tess_v2_pc/hlsp_eleanor_tess_ffi_postcard-s0005-3-4-cal-0412-0484_tess_v2_pc.fits ... [Done]\n",
      "Downloading URL https://mast.stsci.edu/api/v0.1/Download/file?uri=mast:HLSP/eleanor/postcards/s0006/3-3/hlsp_eleanor_tess_ffi_postcard-s0006-3-3-cal-1392-0430_tess_v2_bkg.fits to /home/ana/.eleanor/mastDownload/HLSP/hlsp_eleanor_tess_ffi_postcard-s0006-3-3-cal-1392-0430_tess_v2_pc/hlsp_eleanor_tess_ffi_postcard-s0006-3-3-cal-1392-0430_tess_v2_bkg.fits ... [Done]\n",
      "Downloading URL https://mast.stsci.edu/api/v0.1/Download/file?uri=mast:HLSP/eleanor/postcards/s0006/3-3/hlsp_eleanor_tess_ffi_postcard-s0006-3-3-cal-1392-0430_tess_v2_pc.fits to /home/ana/.eleanor/mastDownload/HLSP/hlsp_eleanor_tess_ffi_postcard-s0006-3-3-cal-1392-0430_tess_v2_pc/hlsp_eleanor_tess_ffi_postcard-s0006-3-3-cal-1392-0430_tess_v2_pc.fits ... [Done]\n",
      "INFO: Found cached file /home/ana/.eleanor/mastDownload/HLSP/hlsp_eleanor_tess_ffi_postcard-s0007-4-2-cal-1784-0160_tess_v2_pc/hlsp_eleanor_tess_ffi_postcard-s0007-4-2-cal-1784-0160_tess_v2_bkg.fits with expected size 67317120. [astroquery.query]\n",
      "INFO: Found cached file /home/ana/.eleanor/mastDownload/HLSP/hlsp_eleanor_tess_ffi_postcard-s0007-4-2-cal-1784-0160_tess_v2_pc/hlsp_eleanor_tess_ffi_postcard-s0007-4-2-cal-1784-0160_tess_v2_pc.fits with expected size 134729280. [astroquery.query]\n",
      "4\n"
     ]
    },
    {
     "name": "stderr",
     "output_type": "stream",
     "text": [
      "WARNING: FITSFixedWarning: 'datfix' made the change 'Set MJD-OBS to 58410.416912 from DATE-OBS.\n",
      "Set DATE-BEG to '2018-10-19T10:01:30.391' from MJD-BEG'. [astropy.wcs.wcs]\n",
      "WARNING: The \"exact\" method is not yet implemented for rectangular apertures -- using \"subpixel\" method with \"subpixels=32\" [photutils.aperture.core]\n"
     ]
    },
    {
     "name": "stdout",
     "output_type": "stream",
     "text": [
      "5\n"
     ]
    },
    {
     "name": "stderr",
     "output_type": "stream",
     "text": [
      "WARNING: FITSFixedWarning: 'datfix' made the change 'Set MJD-OBS to 58437.480487 from DATE-OBS.\n",
      "Set DATE-BEG to '2018-11-15T11:33:03.241' from MJD-BEG'. [astropy.wcs.wcs]\n",
      "WARNING: The \"exact\" method is not yet implemented for rectangular apertures -- using \"subpixel\" method with \"subpixels=32\" [photutils.aperture.core]\n"
     ]
    },
    {
     "name": "stdout",
     "output_type": "stream",
     "text": [
      "6\n"
     ]
    },
    {
     "name": "stderr",
     "output_type": "stream",
     "text": [
      "WARNING: FITSFixedWarning: 'datfix' made the change 'Set MJD-OBS to 58467.772405 from DATE-OBS.\n",
      "Set DATE-BEG to '2018-12-15T18:33:25.007' from MJD-BEG'. [astropy.wcs.wcs]\n",
      "WARNING: The \"exact\" method is not yet implemented for rectangular apertures -- using \"subpixel\" method with \"subpixels=32\" [photutils.aperture.core]\n"
     ]
    },
    {
     "name": "stdout",
     "output_type": "stream",
     "text": [
      "7\n"
     ]
    },
    {
     "name": "stderr",
     "output_type": "stream",
     "text": [
      "WARNING: FITSFixedWarning: 'datfix' made the change 'Set MJD-OBS to 58491.125471 from DATE-OBS.\n",
      "Set DATE-BEG to '2019-01-08T03:01:49.860' from MJD-BEG'. [astropy.wcs.wcs]\n",
      "WARNING: The \"exact\" method is not yet implemented for rectangular apertures -- using \"subpixel\" method with \"subpixels=32\" [photutils.aperture.core]\n"
     ]
    },
    {
     "name": "stdout",
     "output_type": "stream",
     "text": [
      "4 4793011570501720192\n",
      "Downloading URL https://mast.stsci.edu/api/v0.1/Download/file?uri=mast:HLSP/eleanor/postcards/s0004/4-1/hlsp_eleanor_tess_ffi_postcard-s0004-4-1-cal-0412-0160_tess_v2_bkg.fits to /home/ana/.eleanor/mastDownload/HLSP/hlsp_eleanor_tess_ffi_postcard-s0004-4-1-cal-0412-0160_tess_v2_pc/hlsp_eleanor_tess_ffi_postcard-s0004-4-1-cal-0412-0160_tess_v2_bkg.fits ... [Done]\n",
      "Downloading URL https://mast.stsci.edu/api/v0.1/Download/file?uri=mast:HLSP/eleanor/postcards/s0004/4-1/hlsp_eleanor_tess_ffi_postcard-s0004-4-1-cal-0412-0160_tess_v2_pc.fits to /home/ana/.eleanor/mastDownload/HLSP/hlsp_eleanor_tess_ffi_postcard-s0004-4-1-cal-0412-0160_tess_v2_pc/hlsp_eleanor_tess_ffi_postcard-s0004-4-1-cal-0412-0160_tess_v2_pc.fits ... [Done]\n",
      "Downloading URL https://mast.stsci.edu/api/v0.1/Download/file?uri=mast:HLSP/eleanor/postcards/s0005/3-4/hlsp_eleanor_tess_ffi_postcard-s0005-3-4-cal-0608-0430_tess_v2_bkg.fits to /home/ana/.eleanor/mastDownload/HLSP/hlsp_eleanor_tess_ffi_postcard-s0005-3-4-cal-0608-0430_tess_v2_pc/hlsp_eleanor_tess_ffi_postcard-s0005-3-4-cal-0608-0430_tess_v2_bkg.fits ... [Done]\n",
      "Downloading URL https://mast.stsci.edu/api/v0.1/Download/file?uri=mast:HLSP/eleanor/postcards/s0005/3-4/hlsp_eleanor_tess_ffi_postcard-s0005-3-4-cal-0608-0430_tess_v2_pc.fits to /home/ana/.eleanor/mastDownload/HLSP/hlsp_eleanor_tess_ffi_postcard-s0005-3-4-cal-0608-0430_tess_v2_pc/hlsp_eleanor_tess_ffi_postcard-s0005-3-4-cal-0608-0430_tess_v2_pc.fits ... [Done]\n",
      "Downloading URL https://mast.stsci.edu/api/v0.1/Download/file?uri=mast:HLSP/eleanor/postcards/s0006/3-3/hlsp_eleanor_tess_ffi_postcard-s0006-3-3-cal-1588-0430_tess_v2_bkg.fits to /home/ana/.eleanor/mastDownload/HLSP/hlsp_eleanor_tess_ffi_postcard-s0006-3-3-cal-1588-0430_tess_v2_pc/hlsp_eleanor_tess_ffi_postcard-s0006-3-3-cal-1588-0430_tess_v2_bkg.fits ... [Done]\n",
      "Downloading URL https://mast.stsci.edu/api/v0.1/Download/file?uri=mast:HLSP/eleanor/postcards/s0006/3-3/hlsp_eleanor_tess_ffi_postcard-s0006-3-3-cal-1588-0430_tess_v2_pc.fits to /home/ana/.eleanor/mastDownload/HLSP/hlsp_eleanor_tess_ffi_postcard-s0006-3-3-cal-1588-0430_tess_v2_pc/hlsp_eleanor_tess_ffi_postcard-s0006-3-3-cal-1588-0430_tess_v2_pc.fits ... [Done]\n",
      "Downloading URL https://mast.stsci.edu/api/v0.1/Download/file?uri=mast:HLSP/eleanor/postcards/s0007/4-2/hlsp_eleanor_tess_ffi_postcard-s0007-4-2-cal-1588-0106_tess_v2_bkg.fits to /home/ana/.eleanor/mastDownload/HLSP/hlsp_eleanor_tess_ffi_postcard-s0007-4-2-cal-1588-0106_tess_v2_pc/hlsp_eleanor_tess_ffi_postcard-s0007-4-2-cal-1588-0106_tess_v2_bkg.fits ... [Done]\n",
      "Downloading URL https://mast.stsci.edu/api/v0.1/Download/file?uri=mast:HLSP/eleanor/postcards/s0007/4-2/hlsp_eleanor_tess_ffi_postcard-s0007-4-2-cal-1588-0106_tess_v2_pc.fits to /home/ana/.eleanor/mastDownload/HLSP/hlsp_eleanor_tess_ffi_postcard-s0007-4-2-cal-1588-0106_tess_v2_pc/hlsp_eleanor_tess_ffi_postcard-s0007-4-2-cal-1588-0106_tess_v2_pc.fits ... [Done]\n",
      "4\n"
     ]
    },
    {
     "name": "stderr",
     "output_type": "stream",
     "text": [
      "WARNING: FITSFixedWarning: 'datfix' made the change 'Set MJD-OBS to 58410.416912 from DATE-OBS.\n",
      "Set DATE-BEG to '2018-10-19T10:01:30.391' from MJD-BEG'. [astropy.wcs.wcs]\n",
      "WARNING: The \"exact\" method is not yet implemented for rectangular apertures -- using \"subpixel\" method with \"subpixels=32\" [photutils.aperture.core]\n"
     ]
    },
    {
     "name": "stdout",
     "output_type": "stream",
     "text": [
      "5\n"
     ]
    },
    {
     "name": "stderr",
     "output_type": "stream",
     "text": [
      "WARNING: FITSFixedWarning: 'datfix' made the change 'Set MJD-OBS to 58437.480487 from DATE-OBS.\n",
      "Set DATE-BEG to '2018-11-15T11:33:03.241' from MJD-BEG'. [astropy.wcs.wcs]\n",
      "WARNING: The \"exact\" method is not yet implemented for rectangular apertures -- using \"subpixel\" method with \"subpixels=32\" [photutils.aperture.core]\n"
     ]
    },
    {
     "name": "stdout",
     "output_type": "stream",
     "text": [
      "6\n"
     ]
    },
    {
     "name": "stderr",
     "output_type": "stream",
     "text": [
      "WARNING: FITSFixedWarning: 'datfix' made the change 'Set MJD-OBS to 58467.772405 from DATE-OBS.\n",
      "Set DATE-BEG to '2018-12-15T18:33:25.007' from MJD-BEG'. [astropy.wcs.wcs]\n",
      "WARNING: The \"exact\" method is not yet implemented for rectangular apertures -- using \"subpixel\" method with \"subpixels=32\" [photutils.aperture.core]\n"
     ]
    },
    {
     "name": "stdout",
     "output_type": "stream",
     "text": [
      "7\n"
     ]
    },
    {
     "name": "stderr",
     "output_type": "stream",
     "text": [
      "WARNING: FITSFixedWarning: 'datfix' made the change 'Set MJD-OBS to 58491.125471 from DATE-OBS.\n",
      "Set DATE-BEG to '2019-01-08T03:01:49.860' from MJD-BEG'. [astropy.wcs.wcs]\n",
      "WARNING: The \"exact\" method is not yet implemented for rectangular apertures -- using \"subpixel\" method with \"subpixels=32\" [photutils.aperture.core]\n"
     ]
    },
    {
     "name": "stdout",
     "output_type": "stream",
     "text": [
      "5 5266319131192023040\n",
      "Downloading URL https://mast.stsci.edu/api/v0.1/Download/file?uri=mast:HLSP/eleanor/postcards/s0001/4-2/hlsp_eleanor_tess_ffi_postcard-s0001-4-2-cal-0804-1726_tess_v2_bkg.fits to /home/ana/.eleanor/mastDownload/HLSP/hlsp_eleanor_tess_ffi_postcard-s0001-4-2-cal-0804-1726_tess_v2_pc/hlsp_eleanor_tess_ffi_postcard-s0001-4-2-cal-0804-1726_tess_v2_bkg.fits ... [Done]\n",
      "Downloading URL https://mast.stsci.edu/api/v0.1/Download/file?uri=mast:HLSP/eleanor/postcards/s0001/4-2/hlsp_eleanor_tess_ffi_postcard-s0001-4-2-cal-0804-1726_tess_v2_pc.fits to /home/ana/.eleanor/mastDownload/HLSP/hlsp_eleanor_tess_ffi_postcard-s0001-4-2-cal-0804-1726_tess_v2_pc/hlsp_eleanor_tess_ffi_postcard-s0001-4-2-cal-0804-1726_tess_v2_pc.fits ... [Done]\n",
      "Downloading URL https://mast.stsci.edu/api/v0.1/Download/file?uri=mast:HLSP/eleanor/postcards/s0002/4-3/hlsp_eleanor_tess_ffi_postcard-s0002-4-3-cal-1196-1996_tess_v2_bkg.fits to /home/ana/.eleanor/mastDownload/HLSP/hlsp_eleanor_tess_ffi_postcard-s0002-4-3-cal-1196-1996_tess_v2_pc/hlsp_eleanor_tess_ffi_postcard-s0002-4-3-cal-1196-1996_tess_v2_bkg.fits ... [Done]\n",
      "Downloading URL https://mast.stsci.edu/api/v0.1/Download/file?uri=mast:HLSP/eleanor/postcards/s0002/4-3/hlsp_eleanor_tess_ffi_postcard-s0002-4-3-cal-1196-1996_tess_v2_pc.fits to /home/ana/.eleanor/mastDownload/HLSP/hlsp_eleanor_tess_ffi_postcard-s0002-4-3-cal-1196-1996_tess_v2_pc/hlsp_eleanor_tess_ffi_postcard-s0002-4-3-cal-1196-1996_tess_v2_pc.fits ... [Done]\n",
      "Downloading URL https://mast.stsci.edu/api/v0.1/Download/file?uri=mast:HLSP/eleanor/postcards/s0002/4-3/hlsp_eleanor_tess_ffi_postcard-s0002-4-3_tess_v2_pm.txt to /home/ana/.eleanor/mastDownload/HLSP/hlsp_eleanor_tess_ffi_postcard-s0002-4-3-cal-1196-1996_tess_v2_pc/hlsp_eleanor_tess_ffi_postcard-s0002-4-3_tess_v2_pm.txt ... [Done]\n",
      "Downloading URL https://mast.stsci.edu/api/v0.1/Download/file?uri=mast:HLSP/eleanor/postcards/s0003/4-3/hlsp_eleanor_tess_ffi_postcard-s0003-4-3-cal-1392-1618_tess_v2_bkg.fits to /home/ana/.eleanor/mastDownload/HLSP/hlsp_eleanor_tess_ffi_postcard-s0003-4-3-cal-1392-1618_tess_v2_pc/hlsp_eleanor_tess_ffi_postcard-s0003-4-3-cal-1392-1618_tess_v2_bkg.fits ... [Done]\n",
      "Downloading URL https://mast.stsci.edu/api/v0.1/Download/file?uri=mast:HLSP/eleanor/postcards/s0003/4-3/hlsp_eleanor_tess_ffi_postcard-s0003-4-3-cal-1392-1618_tess_v2_pc.fits to /home/ana/.eleanor/mastDownload/HLSP/hlsp_eleanor_tess_ffi_postcard-s0003-4-3-cal-1392-1618_tess_v2_pc/hlsp_eleanor_tess_ffi_postcard-s0003-4-3-cal-1392-1618_tess_v2_pc.fits ... [Done]\n",
      "Downloading URL https://mast.stsci.edu/api/v0.1/Download/file?uri=mast:HLSP/eleanor/postcards/s0004/4-3/hlsp_eleanor_tess_ffi_postcard-s0004-4-3-cal-1686-1294_tess_v2_bkg.fits to /home/ana/.eleanor/mastDownload/HLSP/hlsp_eleanor_tess_ffi_postcard-s0004-4-3-cal-1686-1294_tess_v2_pc/hlsp_eleanor_tess_ffi_postcard-s0004-4-3-cal-1686-1294_tess_v2_bkg.fits ... [Done]\n",
      "Downloading URL https://mast.stsci.edu/api/v0.1/Download/file?uri=mast:HLSP/eleanor/postcards/s0004/4-3/hlsp_eleanor_tess_ffi_postcard-s0004-4-3-cal-1686-1294_tess_v2_pc.fits to /home/ana/.eleanor/mastDownload/HLSP/hlsp_eleanor_tess_ffi_postcard-s0004-4-3-cal-1686-1294_tess_v2_pc/hlsp_eleanor_tess_ffi_postcard-s0004-4-3-cal-1686-1294_tess_v2_pc.fits ... [Done]\n",
      "Downloading URL https://mast.stsci.edu/api/v0.1/Download/file?uri=mast:HLSP/eleanor/postcards/s0006/4-4/hlsp_eleanor_tess_ffi_postcard-s0006-4-4-cal-0412-1240_tess_v2_bkg.fits to /home/ana/.eleanor/mastDownload/HLSP/hlsp_eleanor_tess_ffi_postcard-s0006-4-4-cal-0412-1240_tess_v2_pc/hlsp_eleanor_tess_ffi_postcard-s0006-4-4-cal-0412-1240_tess_v2_bkg.fits ... [Done]\n",
      "Downloading URL https://mast.stsci.edu/api/v0.1/Download/file?uri=mast:HLSP/eleanor/postcards/s0006/4-4/hlsp_eleanor_tess_ffi_postcard-s0006-4-4-cal-0412-1240_tess_v2_pc.fits to /home/ana/.eleanor/mastDownload/HLSP/hlsp_eleanor_tess_ffi_postcard-s0006-4-4-cal-0412-1240_tess_v2_pc/hlsp_eleanor_tess_ffi_postcard-s0006-4-4-cal-0412-1240_tess_v2_pc.fits ... [Done]\n",
      "Downloading URL https://mast.stsci.edu/api/v0.1/Download/file?uri=mast:HLSP/eleanor/postcards/s0007/4-4/hlsp_eleanor_tess_ffi_postcard-s0007-4-4-cal-0706-1510_tess_v2_bkg.fits to /home/ana/.eleanor/mastDownload/HLSP/hlsp_eleanor_tess_ffi_postcard-s0007-4-4-cal-0706-1510_tess_v2_pc/hlsp_eleanor_tess_ffi_postcard-s0007-4-4-cal-0706-1510_tess_v2_bkg.fits ... [Done]\n",
      "Downloading URL https://mast.stsci.edu/api/v0.1/Download/file?uri=mast:HLSP/eleanor/postcards/s0007/4-4/hlsp_eleanor_tess_ffi_postcard-s0007-4-4-cal-0706-1510_tess_v2_pc.fits to /home/ana/.eleanor/mastDownload/HLSP/hlsp_eleanor_tess_ffi_postcard-s0007-4-4-cal-0706-1510_tess_v2_pc/hlsp_eleanor_tess_ffi_postcard-s0007-4-4-cal-0706-1510_tess_v2_pc.fits ... [Done]\n",
      "Downloading URL https://mast.stsci.edu/api/v0.1/Download/file?uri=mast:HLSP/eleanor/postcards/s0008/4-4/hlsp_eleanor_tess_ffi_postcard-s0008-4-4-cal-0902-1888_tess_v2_bkg.fits to /home/ana/.eleanor/mastDownload/HLSP/hlsp_eleanor_tess_ffi_postcard-s0008-4-4-cal-0902-1888_tess_v2_pc/hlsp_eleanor_tess_ffi_postcard-s0008-4-4-cal-0902-1888_tess_v2_bkg.fits ... [Done]\n",
      "Downloading URL https://mast.stsci.edu/api/v0.1/Download/file?uri=mast:HLSP/eleanor/postcards/s0008/4-4/hlsp_eleanor_tess_ffi_postcard-s0008-4-4-cal-0902-1888_tess_v2_pc.fits to /home/ana/.eleanor/mastDownload/HLSP/hlsp_eleanor_tess_ffi_postcard-s0008-4-4-cal-0902-1888_tess_v2_pc/hlsp_eleanor_tess_ffi_postcard-s0008-4-4-cal-0902-1888_tess_v2_pc.fits ... [Done]\n",
      "Downloading URL https://mast.stsci.edu/api/v0.1/Download/file?uri=mast:HLSP/eleanor/postcards/s0009/4-1/hlsp_eleanor_tess_ffi_postcard-s0009-4-1-cal-1196-1888_tess_v2_bkg.fits to /home/ana/.eleanor/mastDownload/HLSP/hlsp_eleanor_tess_ffi_postcard-s0009-4-1-cal-1196-1888_tess_v2_pc/hlsp_eleanor_tess_ffi_postcard-s0009-4-1-cal-1196-1888_tess_v2_bkg.fits ... [Done]\n",
      "Downloading URL https://mast.stsci.edu/api/v0.1/Download/file?uri=mast:HLSP/eleanor/postcards/s0009/4-1/hlsp_eleanor_tess_ffi_postcard-s0009-4-1-cal-1196-1888_tess_v2_pc.fits to /home/ana/.eleanor/mastDownload/HLSP/hlsp_eleanor_tess_ffi_postcard-s0009-4-1-cal-1196-1888_tess_v2_pc/hlsp_eleanor_tess_ffi_postcard-s0009-4-1-cal-1196-1888_tess_v2_pc.fits ... [Done]\n",
      "INFO: Found cached file /home/ana/.eleanor/mastDownload/HLSP/hlsp_eleanor_tess_ffi_postcard-s0010-4-1-cal-1392-1510_tess_v2_pc/hlsp_eleanor_tess_ffi_postcard-s0010-4-1-cal-1392-1510_tess_v2_bkg.fits with expected size 74583360. [astroquery.query]\n",
      "INFO: Found cached file /home/ana/.eleanor/mastDownload/HLSP/hlsp_eleanor_tess_ffi_postcard-s0010-4-1-cal-1392-1510_tess_v2_pc/hlsp_eleanor_tess_ffi_postcard-s0010-4-1-cal-1392-1510_tess_v2_pc.fits with expected size 149273280. [astroquery.query]\n",
      "Downloading URL https://mast.stsci.edu/api/v0.1/Download/file?uri=mast:HLSP/eleanor/postcards/s0011/4-1/hlsp_eleanor_tess_ffi_postcard-s0011-4-1-cal-1784-1240_tess_v2_bkg.fits to /home/ana/.eleanor/mastDownload/HLSP/hlsp_eleanor_tess_ffi_postcard-s0011-4-1-cal-1784-1240_tess_v2_pc/hlsp_eleanor_tess_ffi_postcard-s0011-4-1-cal-1784-1240_tess_v2_bkg.fits ... [Done]\n",
      "Downloading URL https://mast.stsci.edu/api/v0.1/Download/file?uri=mast:HLSP/eleanor/postcards/s0011/4-1/hlsp_eleanor_tess_ffi_postcard-s0011-4-1-cal-1784-1240_tess_v2_pc.fits to /home/ana/.eleanor/mastDownload/HLSP/hlsp_eleanor_tess_ffi_postcard-s0011-4-1-cal-1784-1240_tess_v2_pc/hlsp_eleanor_tess_ffi_postcard-s0011-4-1-cal-1784-1240_tess_v2_pc.fits ... [Done]\n",
      "Downloading URL https://mast.stsci.edu/api/v0.1/Download/file?uri=mast:HLSP/eleanor/postcards/s0012/4-2/hlsp_eleanor_tess_ffi_postcard-s0012-4-2-cal-0118-1186_tess_v2_bkg.fits to /home/ana/.eleanor/mastDownload/HLSP/hlsp_eleanor_tess_ffi_postcard-s0012-4-2-cal-0118-1186_tess_v2_pc/hlsp_eleanor_tess_ffi_postcard-s0012-4-2-cal-0118-1186_tess_v2_bkg.fits ... [Done]\n",
      "Downloading URL https://mast.stsci.edu/api/v0.1/Download/file?uri=mast:HLSP/eleanor/postcards/s0012/4-2/hlsp_eleanor_tess_ffi_postcard-s0012-4-2-cal-0118-1186_tess_v2_pc.fits to /home/ana/.eleanor/mastDownload/HLSP/hlsp_eleanor_tess_ffi_postcard-s0012-4-2-cal-0118-1186_tess_v2_pc/hlsp_eleanor_tess_ffi_postcard-s0012-4-2-cal-0118-1186_tess_v2_pc.fits ... [Done]\n"
     ]
    },
    {
     "name": "stdout",
     "output_type": "stream",
     "text": [
      "Downloading URL https://mast.stsci.edu/api/v0.1/Download/file?uri=mast:HLSP/eleanor/postcards/s0012/4-2/hlsp_eleanor_tess_ffi_postcard-s0012-4-2_tess_v2_pm.txt to /home/ana/.eleanor/mastDownload/HLSP/hlsp_eleanor_tess_ffi_postcard-s0012-4-2-cal-0118-1186_tess_v2_pc/hlsp_eleanor_tess_ffi_postcard-s0012-4-2_tess_v2_pm.txt ... [Done]\n",
      "Downloading URL https://mast.stsci.edu/api/v0.1/Download/file?uri=mast:HLSP/eleanor/postcards/s0013/4-2/hlsp_eleanor_tess_ffi_postcard-s0013-4-2-cal-0510-1294_tess_v2_bkg.fits to /home/ana/.eleanor/mastDownload/HLSP/hlsp_eleanor_tess_ffi_postcard-s0013-4-2-cal-0510-1294_tess_v2_pc/hlsp_eleanor_tess_ffi_postcard-s0013-4-2-cal-0510-1294_tess_v2_bkg.fits ... [Done]\n",
      "Downloading URL https://mast.stsci.edu/api/v0.1/Download/file?uri=mast:HLSP/eleanor/postcards/s0013/4-2/hlsp_eleanor_tess_ffi_postcard-s0013-4-2-cal-0510-1294_tess_v2_pc.fits to /home/ana/.eleanor/mastDownload/HLSP/hlsp_eleanor_tess_ffi_postcard-s0013-4-2-cal-0510-1294_tess_v2_pc/hlsp_eleanor_tess_ffi_postcard-s0013-4-2-cal-0510-1294_tess_v2_pc.fits ... [Done]\n",
      "1\n"
     ]
    },
    {
     "name": "stderr",
     "output_type": "stream",
     "text": [
      "WARNING: FITSFixedWarning: 'datfix' made the change 'Set MJD-OBS to 58324.813055 from DATE-OBS.\n",
      "Set DATE-BEG to '2018-07-25T19:31:57.119' from MJD-BEG'. [astropy.wcs.wcs]\n",
      "WARNING: The \"exact\" method is not yet implemented for rectangular apertures -- using \"subpixel\" method with \"subpixels=32\" [photutils.aperture.core]\n"
     ]
    },
    {
     "name": "stdout",
     "output_type": "stream",
     "text": [
      "2\n"
     ]
    },
    {
     "name": "stderr",
     "output_type": "stream",
     "text": [
      "WARNING: FITSFixedWarning: 'datfix' made the change 'Set MJD-OBS to 58353.603470 from DATE-OBS.\n",
      "Set DATE-BEG to '2018-08-23T14:30:09.031' from MJD-BEG'. [astropy.wcs.wcs]\n",
      "WARNING: The \"exact\" method is not yet implemented for rectangular apertures -- using \"subpixel\" method with \"subpixels=32\" [photutils.aperture.core]\n"
     ]
    },
    {
     "name": "stdout",
     "output_type": "stream",
     "text": [
      "3\n"
     ]
    },
    {
     "name": "stderr",
     "output_type": "stream",
     "text": [
      "WARNING: FITSFixedWarning: 'datfix' made the change 'Set MJD-OBS to 58381.540973 from DATE-OBS.\n",
      "Set DATE-BEG to '2018-09-20T13:00:09.232' from MJD-BEG'. [astropy.wcs.wcs]\n",
      "WARNING: The \"exact\" method is not yet implemented for rectangular apertures -- using \"subpixel\" method with \"subpixels=32\" [photutils.aperture.core]\n"
     ]
    },
    {
     "name": "stdout",
     "output_type": "stream",
     "text": [
      "4\n"
     ]
    },
    {
     "name": "stderr",
     "output_type": "stream",
     "text": [
      "WARNING: FITSFixedWarning: 'datfix' made the change 'Set MJD-OBS to 58410.415955 from DATE-OBS.\n",
      "Set DATE-BEG to '2018-10-19T10:00:07.686' from MJD-BEG'. [astropy.wcs.wcs]\n",
      "WARNING: The \"exact\" method is not yet implemented for rectangular apertures -- using \"subpixel\" method with \"subpixels=32\" [photutils.aperture.core]\n"
     ]
    },
    {
     "name": "stdout",
     "output_type": "stream",
     "text": [
      "6\n"
     ]
    },
    {
     "name": "stderr",
     "output_type": "stream",
     "text": [
      "WARNING: FITSFixedWarning: 'datfix' made the change 'Set MJD-OBS to 58467.769873 from DATE-OBS.\n",
      "Set DATE-BEG to '2018-12-15T18:29:46.237' from MJD-BEG'. [astropy.wcs.wcs]\n",
      "WARNING: The \"exact\" method is not yet implemented for rectangular apertures -- using \"subpixel\" method with \"subpixels=32\" [photutils.aperture.core]\n"
     ]
    },
    {
     "name": "stdout",
     "output_type": "stream",
     "text": [
      "7\n"
     ]
    },
    {
     "name": "stderr",
     "output_type": "stream",
     "text": [
      "WARNING: FITSFixedWarning: 'datfix' made the change 'Set MJD-OBS to 58491.123983 from DATE-OBS.\n",
      "Set DATE-BEG to '2019-01-08T02:59:41.285' from MJD-BEG'. [astropy.wcs.wcs]\n",
      "WARNING: The \"exact\" method is not yet implemented for rectangular apertures -- using \"subpixel\" method with \"subpixels=32\" [photutils.aperture.core]\n"
     ]
    },
    {
     "name": "stdout",
     "output_type": "stream",
     "text": [
      "8\n"
     ]
    },
    {
     "name": "stderr",
     "output_type": "stream",
     "text": [
      "WARNING: FITSFixedWarning: 'datfix' made the change 'Set MJD-OBS to 58516.853135 from DATE-OBS.\n",
      "Set DATE-BEG to '2019-02-02T20:29:40.053' from MJD-BEG'. [astropy.wcs.wcs]\n",
      "WARNING: The \"exact\" method is not yet implemented for rectangular apertures -- using \"subpixel\" method with \"subpixels=32\" [photutils.aperture.core]\n"
     ]
    },
    {
     "name": "stdout",
     "output_type": "stream",
     "text": [
      "9\n",
      "INFO: \n",
      "                Inconsistent SIP distortion information is present in the FITS header and the WCS object:\n",
      "                SIP coefficients were detected, but CTYPE is missing a \"-SIP\" suffix.\n",
      "                astropy.wcs is using the SIP distortion coefficients,\n",
      "                therefore the coordinates calculated here might be incorrect.\n",
      "\n",
      "                If you do not want to apply the SIP distortion coefficients,\n",
      "                please remove the SIP coefficients from the FITS header or the\n",
      "                WCS object.  As an example, if the image is already distortion-corrected\n",
      "                (e.g., drizzled) then distortion components should not apply and the SIP\n",
      "                coefficients should be removed.\n",
      "\n",
      "                While the SIP distortion coefficients are being applied here, if that was indeed the intent,\n",
      "                for consistency please append \"-SIP\" to the CTYPE in the FITS header or the WCS object.\n",
      "\n",
      "                 [astropy.wcs.wcs]\n"
     ]
    },
    {
     "name": "stderr",
     "output_type": "stream",
     "text": [
      "WARNING: FITSFixedWarning: 'datfix' made the change 'Set MJD-OBS to 58542.729338 from DATE-OBS.\n",
      "Set DATE-BEG to '2019-02-28T17:31:23.974' from MJD-BEG'. [astropy.wcs.wcs]\n",
      "WARNING: The \"exact\" method is not yet implemented for rectangular apertures -- using \"subpixel\" method with \"subpixels=32\" [photutils.aperture.core]\n"
     ]
    },
    {
     "name": "stdout",
     "output_type": "stream",
     "text": [
      "10\n",
      "INFO: \n",
      "                Inconsistent SIP distortion information is present in the FITS header and the WCS object:\n",
      "                SIP coefficients were detected, but CTYPE is missing a \"-SIP\" suffix.\n",
      "                astropy.wcs is using the SIP distortion coefficients,\n",
      "                therefore the coordinates calculated here might be incorrect.\n",
      "\n",
      "                If you do not want to apply the SIP distortion coefficients,\n",
      "                please remove the SIP coefficients from the FITS header or the\n",
      "                WCS object.  As an example, if the image is already distortion-corrected\n",
      "                (e.g., drizzled) then distortion components should not apply and the SIP\n",
      "                coefficients should be removed.\n",
      "\n",
      "                While the SIP distortion coefficients are being applied here, if that was indeed the intent,\n",
      "                for consistency please append \"-SIP\" to the CTYPE in the FITS header or the WCS object.\n",
      "\n",
      "                 [astropy.wcs.wcs]\n"
     ]
    },
    {
     "name": "stderr",
     "output_type": "stream",
     "text": [
      "WARNING: FITSFixedWarning: 'datfix' made the change 'Set MJD-OBS to 58568.937658 from DATE-OBS.\n",
      "Set DATE-BEG to '2019-03-26T22:31:22.810' from MJD-BEG'. [astropy.wcs.wcs]\n",
      "WARNING: The \"exact\" method is not yet implemented for rectangular apertures -- using \"subpixel\" method with \"subpixels=32\" [photutils.aperture.core]\n"
     ]
    },
    {
     "name": "stdout",
     "output_type": "stream",
     "text": [
      "11\n",
      "INFO: \n",
      "                Inconsistent SIP distortion information is present in the FITS header and the WCS object:\n",
      "                SIP coefficients were detected, but CTYPE is missing a \"-SIP\" suffix.\n",
      "                astropy.wcs is using the SIP distortion coefficients,\n",
      "                therefore the coordinates calculated here might be incorrect.\n",
      "\n",
      "                If you do not want to apply the SIP distortion coefficients,\n",
      "                please remove the SIP coefficients from the FITS header or the\n",
      "                WCS object.  As an example, if the image is already distortion-corrected\n",
      "                (e.g., drizzled) then distortion components should not apply and the SIP\n",
      "                coefficients should be removed.\n",
      "\n",
      "                While the SIP distortion coefficients are being applied here, if that was indeed the intent,\n",
      "                for consistency please append \"-SIP\" to the CTYPE in the FITS header or the WCS object.\n",
      "\n",
      "                 [astropy.wcs.wcs]\n"
     ]
    },
    {
     "name": "stderr",
     "output_type": "stream",
     "text": [
      "WARNING: FITSFixedWarning: 'datfix' made the change 'Set MJD-OBS to 58596.270977 from DATE-OBS.\n",
      "Set DATE-BEG to '2019-04-23T06:31:21.612' from MJD-BEG'. [astropy.wcs.wcs]\n",
      "WARNING: The \"exact\" method is not yet implemented for rectangular apertures -- using \"subpixel\" method with \"subpixels=32\" [photutils.aperture.core]\n"
     ]
    },
    {
     "name": "stdout",
     "output_type": "stream",
     "text": [
      "12\n",
      "INFO: \n",
      "                Inconsistent SIP distortion information is present in the FITS header and the WCS object:\n",
      "                SIP coefficients were detected, but CTYPE is missing a \"-SIP\" suffix.\n",
      "                astropy.wcs is using the SIP distortion coefficients,\n",
      "                therefore the coordinates calculated here might be incorrect.\n",
      "\n",
      "                If you do not want to apply the SIP distortion coefficients,\n",
      "                please remove the SIP coefficients from the FITS header or the\n",
      "                WCS object.  As an example, if the image is already distortion-corrected\n",
      "                (e.g., drizzled) then distortion components should not apply and the SIP\n",
      "                coefficients should be removed.\n",
      "\n",
      "                While the SIP distortion coefficients are being applied here, if that was indeed the intent,\n",
      "                for consistency please append \"-SIP\" to the CTYPE in the FITS header or the WCS object.\n",
      "\n",
      "                 [astropy.wcs.wcs]\n"
     ]
    },
    {
     "name": "stderr",
     "output_type": "stream",
     "text": [
      "WARNING: FITSFixedWarning: 'datfix' made the change 'Set MJD-OBS to 58624.458771 from DATE-OBS.\n",
      "Set DATE-BEG to '2019-05-21T11:01:47.002' from MJD-BEG'. [astropy.wcs.wcs]\n",
      "WARNING: The \"exact\" method is not yet implemented for rectangular apertures -- using \"subpixel\" method with \"subpixels=32\" [photutils.aperture.core]\n"
     ]
    },
    {
     "name": "stdout",
     "output_type": "stream",
     "text": [
      "13\n",
      "INFO: \n",
      "                Inconsistent SIP distortion information is present in the FITS header and the WCS object:\n",
      "                SIP coefficients were detected, but CTYPE is missing a \"-SIP\" suffix.\n",
      "                astropy.wcs is using the SIP distortion coefficients,\n",
      "                therefore the coordinates calculated here might be incorrect.\n",
      "\n",
      "                If you do not want to apply the SIP distortion coefficients,\n",
      "                please remove the SIP coefficients from the FITS header or the\n",
      "                WCS object.  As an example, if the image is already distortion-corrected\n",
      "                (e.g., drizzled) then distortion components should not apply and the SIP\n",
      "                coefficients should be removed.\n",
      "\n",
      "                While the SIP distortion coefficients are being applied here, if that was indeed the intent,\n",
      "                for consistency please append \"-SIP\" to the CTYPE in the FITS header or the WCS object.\n",
      "\n",
      "                 [astropy.wcs.wcs]\n"
     ]
    },
    {
     "name": "stderr",
     "output_type": "stream",
     "text": [
      "WARNING: FITSFixedWarning: 'datfix' made the change 'Set MJD-OBS to 58653.417091 from DATE-OBS.\n",
      "Set DATE-BEG to '2019-06-19T10:01:45.855' from MJD-BEG'. [astropy.wcs.wcs]\n",
      "WARNING: The \"exact\" method is not yet implemented for rectangular apertures -- using \"subpixel\" method with \"subpixels=32\" [photutils.aperture.core]\n"
     ]
    },
    {
     "name": "stdout",
     "output_type": "stream",
     "text": [
      "6 4793106815696935296\n",
      "Downloading URL https://mast.stsci.edu/api/v0.1/Download/file?uri=mast:HLSP/eleanor/postcards/s0004/4-1/hlsp_eleanor_tess_ffi_postcard-s0004-4-1-cal-0314-0160_tess_v2_bkg.fits to /home/ana/.eleanor/mastDownload/HLSP/hlsp_eleanor_tess_ffi_postcard-s0004-4-1-cal-0314-0160_tess_v2_pc/hlsp_eleanor_tess_ffi_postcard-s0004-4-1-cal-0314-0160_tess_v2_bkg.fits ... [Done]\n",
      "Downloading URL https://mast.stsci.edu/api/v0.1/Download/file?uri=mast:HLSP/eleanor/postcards/s0004/4-1/hlsp_eleanor_tess_ffi_postcard-s0004-4-1-cal-0314-0160_tess_v2_pc.fits to /home/ana/.eleanor/mastDownload/HLSP/hlsp_eleanor_tess_ffi_postcard-s0004-4-1-cal-0314-0160_tess_v2_pc/hlsp_eleanor_tess_ffi_postcard-s0004-4-1-cal-0314-0160_tess_v2_pc.fits ... [Done]\n",
      "INFO: Found cached file /home/ana/.eleanor/mastDownload/HLSP/hlsp_eleanor_tess_ffi_postcard-s0005-3-4-cal-0608-0430_tess_v2_pc/hlsp_eleanor_tess_ffi_postcard-s0005-3-4-cal-0608-0430_tess_v2_bkg.fits with expected size 73658880. [astroquery.query]\n",
      "INFO: Found cached file /home/ana/.eleanor/mastDownload/HLSP/hlsp_eleanor_tess_ffi_postcard-s0005-3-4-cal-0608-0430_tess_v2_pc/hlsp_eleanor_tess_ffi_postcard-s0005-3-4-cal-0608-0430_tess_v2_pc.fits with expected size 147421440. [astroquery.query]\n",
      "Downloading URL https://mast.stsci.edu/api/v0.1/Download/file?uri=mast:HLSP/eleanor/postcards/s0006/3-3/hlsp_eleanor_tess_ffi_postcard-s0006-3-3-cal-1588-0484_tess_v2_bkg.fits to /home/ana/.eleanor/mastDownload/HLSP/hlsp_eleanor_tess_ffi_postcard-s0006-3-3-cal-1588-0484_tess_v2_pc/hlsp_eleanor_tess_ffi_postcard-s0006-3-3-cal-1588-0484_tess_v2_bkg.fits ... [Done]\n",
      "Downloading URL https://mast.stsci.edu/api/v0.1/Download/file?uri=mast:HLSP/eleanor/postcards/s0006/3-3/hlsp_eleanor_tess_ffi_postcard-s0006-3-3-cal-1588-0484_tess_v2_pc.fits to /home/ana/.eleanor/mastDownload/HLSP/hlsp_eleanor_tess_ffi_postcard-s0006-3-3-cal-1588-0484_tess_v2_pc/hlsp_eleanor_tess_ffi_postcard-s0006-3-3-cal-1588-0484_tess_v2_pc.fits ... [Done]\n",
      "Downloading URL https://mast.stsci.edu/api/v0.1/Download/file?uri=mast:HLSP/eleanor/postcards/s0007/4-2/hlsp_eleanor_tess_ffi_postcard-s0007-4-2-cal-1686-0052_tess_v2_bkg.fits to /home/ana/.eleanor/mastDownload/HLSP/hlsp_eleanor_tess_ffi_postcard-s0007-4-2-cal-1686-0052_tess_v2_pc/hlsp_eleanor_tess_ffi_postcard-s0007-4-2-cal-1686-0052_tess_v2_bkg.fits ... [Done]\n",
      "Downloading URL https://mast.stsci.edu/api/v0.1/Download/file?uri=mast:HLSP/eleanor/postcards/s0007/4-2/hlsp_eleanor_tess_ffi_postcard-s0007-4-2-cal-1686-0052_tess_v2_pc.fits to /home/ana/.eleanor/mastDownload/HLSP/hlsp_eleanor_tess_ffi_postcard-s0007-4-2-cal-1686-0052_tess_v2_pc/hlsp_eleanor_tess_ffi_postcard-s0007-4-2-cal-1686-0052_tess_v2_pc.fits ... [Done]\n",
      "4\n"
     ]
    },
    {
     "name": "stderr",
     "output_type": "stream",
     "text": [
      "WARNING: FITSFixedWarning: 'datfix' made the change 'Set MJD-OBS to 58410.416912 from DATE-OBS.\n",
      "Set DATE-BEG to '2018-10-19T10:01:30.391' from MJD-BEG'. [astropy.wcs.wcs]\n",
      "WARNING: The \"exact\" method is not yet implemented for rectangular apertures -- using \"subpixel\" method with \"subpixels=32\" [photutils.aperture.core]\n"
     ]
    },
    {
     "name": "stdout",
     "output_type": "stream",
     "text": [
      "5\n"
     ]
    },
    {
     "name": "stderr",
     "output_type": "stream",
     "text": [
      "WARNING: FITSFixedWarning: 'datfix' made the change 'Set MJD-OBS to 58437.480487 from DATE-OBS.\n",
      "Set DATE-BEG to '2018-11-15T11:33:03.241' from MJD-BEG'. [astropy.wcs.wcs]\n",
      "WARNING: The \"exact\" method is not yet implemented for rectangular apertures -- using \"subpixel\" method with \"subpixels=32\" [photutils.aperture.core]\n"
     ]
    },
    {
     "name": "stdout",
     "output_type": "stream",
     "text": [
      "6\n"
     ]
    },
    {
     "name": "stderr",
     "output_type": "stream",
     "text": [
      "WARNING: FITSFixedWarning: 'datfix' made the change 'Set MJD-OBS to 58467.772405 from DATE-OBS.\n",
      "Set DATE-BEG to '2018-12-15T18:33:25.007' from MJD-BEG'. [astropy.wcs.wcs]\n",
      "WARNING: The \"exact\" method is not yet implemented for rectangular apertures -- using \"subpixel\" method with \"subpixels=32\" [photutils.aperture.core]\n"
     ]
    },
    {
     "name": "stdout",
     "output_type": "stream",
     "text": [
      "7\n"
     ]
    },
    {
     "name": "stderr",
     "output_type": "stream",
     "text": [
      "WARNING: FITSFixedWarning: 'datfix' made the change 'Set MJD-OBS to 58491.125471 from DATE-OBS.\n",
      "Set DATE-BEG to '2019-01-08T03:01:49.860' from MJD-BEG'. [astropy.wcs.wcs]\n",
      "WARNING: The \"exact\" method is not yet implemented for rectangular apertures -- using \"subpixel\" method with \"subpixels=32\" [photutils.aperture.core]\n"
     ]
    },
    {
     "name": "stdout",
     "output_type": "stream",
     "text": [
      "7 4654529695907256832\n",
      "Downloading URL https://mast.stsci.edu/api/v0.1/Download/file?uri=mast:HLSP/eleanor/postcards/s0001/4-2/hlsp_eleanor_tess_ffi_postcard-s0001-4-2-cal-0118-0808_tess_v2_bkg.fits to /home/ana/.eleanor/mastDownload/HLSP/hlsp_eleanor_tess_ffi_postcard-s0001-4-2-cal-0118-0808_tess_v2_pc/hlsp_eleanor_tess_ffi_postcard-s0001-4-2-cal-0118-0808_tess_v2_bkg.fits ... [Done]\n",
      "Downloading URL https://mast.stsci.edu/api/v0.1/Download/file?uri=mast:HLSP/eleanor/postcards/s0001/4-2/hlsp_eleanor_tess_ffi_postcard-s0001-4-2-cal-0118-0808_tess_v2_pc.fits to /home/ana/.eleanor/mastDownload/HLSP/hlsp_eleanor_tess_ffi_postcard-s0001-4-2-cal-0118-0808_tess_v2_pc/hlsp_eleanor_tess_ffi_postcard-s0001-4-2-cal-0118-0808_tess_v2_pc.fits ... [Done]\n",
      "Downloading URL https://mast.stsci.edu/api/v0.1/Download/file?uri=mast:HLSP/eleanor/postcards/s0002/4-2/hlsp_eleanor_tess_ffi_postcard-s0002-4-2-cal-0706-1024_tess_v2_bkg.fits to /home/ana/.eleanor/mastDownload/HLSP/hlsp_eleanor_tess_ffi_postcard-s0002-4-2-cal-0706-1024_tess_v2_pc/hlsp_eleanor_tess_ffi_postcard-s0002-4-2-cal-0706-1024_tess_v2_bkg.fits ... [Done]\n",
      "Downloading URL https://mast.stsci.edu/api/v0.1/Download/file?uri=mast:HLSP/eleanor/postcards/s0002/4-2/hlsp_eleanor_tess_ffi_postcard-s0002-4-2-cal-0706-1024_tess_v2_pc.fits to /home/ana/.eleanor/mastDownload/HLSP/hlsp_eleanor_tess_ffi_postcard-s0002-4-2-cal-0706-1024_tess_v2_pc/hlsp_eleanor_tess_ffi_postcard-s0002-4-2-cal-0706-1024_tess_v2_pc.fits ... [Done]\n",
      "Downloading URL https://mast.stsci.edu/api/v0.1/Download/file?uri=mast:HLSP/eleanor/postcards/s0003/4-2/hlsp_eleanor_tess_ffi_postcard-s0003-4-2-cal-1098-1456_tess_v2_bkg.fits to /home/ana/.eleanor/mastDownload/HLSP/hlsp_eleanor_tess_ffi_postcard-s0003-4-2-cal-1098-1456_tess_v2_pc/hlsp_eleanor_tess_ffi_postcard-s0003-4-2-cal-1098-1456_tess_v2_bkg.fits ... [Done]\n",
      "Downloading URL https://mast.stsci.edu/api/v0.1/Download/file?uri=mast:HLSP/eleanor/postcards/s0003/4-2/hlsp_eleanor_tess_ffi_postcard-s0003-4-2-cal-1098-1456_tess_v2_pc.fits to /home/ana/.eleanor/mastDownload/HLSP/hlsp_eleanor_tess_ffi_postcard-s0003-4-2-cal-1098-1456_tess_v2_pc/hlsp_eleanor_tess_ffi_postcard-s0003-4-2-cal-1098-1456_tess_v2_pc.fits ... [Done]\n",
      "Downloading URL https://mast.stsci.edu/api/v0.1/Download/file?uri=mast:HLSP/eleanor/postcards/s0003/4-2/hlsp_eleanor_tess_ffi_postcard-s0003-4-2_tess_v2_pm.txt to /home/ana/.eleanor/mastDownload/HLSP/hlsp_eleanor_tess_ffi_postcard-s0003-4-2-cal-1098-1456_tess_v2_pc/hlsp_eleanor_tess_ffi_postcard-s0003-4-2_tess_v2_pm.txt ... [Done]\n",
      "Downloading URL https://mast.stsci.edu/api/v0.1/Download/file?uri=mast:HLSP/eleanor/postcards/s0004/4-2/hlsp_eleanor_tess_ffi_postcard-s0004-4-2-cal-1294-1996_tess_v2_bkg.fits to /home/ana/.eleanor/mastDownload/HLSP/hlsp_eleanor_tess_ffi_postcard-s0004-4-2-cal-1294-1996_tess_v2_pc/hlsp_eleanor_tess_ffi_postcard-s0004-4-2-cal-1294-1996_tess_v2_bkg.fits ... [Done]\n",
      "Downloading URL https://mast.stsci.edu/api/v0.1/Download/file?uri=mast:HLSP/eleanor/postcards/s0004/4-2/hlsp_eleanor_tess_ffi_postcard-s0004-4-2-cal-1294-1996_tess_v2_pc.fits to /home/ana/.eleanor/mastDownload/HLSP/hlsp_eleanor_tess_ffi_postcard-s0004-4-2-cal-1294-1996_tess_v2_pc/hlsp_eleanor_tess_ffi_postcard-s0004-4-2-cal-1294-1996_tess_v2_pc.fits ... [Done]\n",
      "Downloading URL https://mast.stsci.edu/api/v0.1/Download/file?uri=mast:HLSP/eleanor/postcards/s0004/4-2/hlsp_eleanor_tess_ffi_postcard-s0004-4-2_tess_v2_pm.txt to /home/ana/.eleanor/mastDownload/HLSP/hlsp_eleanor_tess_ffi_postcard-s0004-4-2-cal-1294-1996_tess_v2_pc/hlsp_eleanor_tess_ffi_postcard-s0004-4-2_tess_v2_pm.txt ... [Done]\n",
      "Downloading URL https://mast.stsci.edu/api/v0.1/Download/file?uri=mast:HLSP/eleanor/postcards/s0005/4-3/hlsp_eleanor_tess_ffi_postcard-s0005-4-3-cal-1000-1564_tess_v2_bkg.fits to /home/ana/.eleanor/mastDownload/HLSP/hlsp_eleanor_tess_ffi_postcard-s0005-4-3-cal-1000-1564_tess_v2_pc/hlsp_eleanor_tess_ffi_postcard-s0005-4-3-cal-1000-1564_tess_v2_bkg.fits ... [Done]\n",
      "Downloading URL https://mast.stsci.edu/api/v0.1/Download/file?uri=mast:HLSP/eleanor/postcards/s0005/4-3/hlsp_eleanor_tess_ffi_postcard-s0005-4-3-cal-1000-1564_tess_v2_pc.fits to /home/ana/.eleanor/mastDownload/HLSP/hlsp_eleanor_tess_ffi_postcard-s0005-4-3-cal-1000-1564_tess_v2_pc/hlsp_eleanor_tess_ffi_postcard-s0005-4-3-cal-1000-1564_tess_v2_pc.fits ... [Done]\n",
      "Downloading URL https://mast.stsci.edu/api/v0.1/Download/file?uri=mast:HLSP/eleanor/postcards/s0006/4-3/hlsp_eleanor_tess_ffi_postcard-s0006-4-3-cal-1392-1078_tess_v2_bkg.fits to /home/ana/.eleanor/mastDownload/HLSP/hlsp_eleanor_tess_ffi_postcard-s0006-4-3-cal-1392-1078_tess_v2_pc/hlsp_eleanor_tess_ffi_postcard-s0006-4-3-cal-1392-1078_tess_v2_bkg.fits ... [Done]\n",
      "Downloading URL https://mast.stsci.edu/api/v0.1/Download/file?uri=mast:HLSP/eleanor/postcards/s0006/4-3/hlsp_eleanor_tess_ffi_postcard-s0006-4-3-cal-1392-1078_tess_v2_pc.fits to /home/ana/.eleanor/mastDownload/HLSP/hlsp_eleanor_tess_ffi_postcard-s0006-4-3-cal-1392-1078_tess_v2_pc/hlsp_eleanor_tess_ffi_postcard-s0006-4-3-cal-1392-1078_tess_v2_pc.fits ... [Done]\n",
      "Downloading URL https://mast.stsci.edu/api/v0.1/Download/file?uri=mast:HLSP/eleanor/postcards/s0007/4-3/hlsp_eleanor_tess_ffi_postcard-s0007-4-3-cal-1882-0862_tess_v2_bkg.fits to /home/ana/.eleanor/mastDownload/HLSP/hlsp_eleanor_tess_ffi_postcard-s0007-4-3-cal-1882-0862_tess_v2_pc/hlsp_eleanor_tess_ffi_postcard-s0007-4-3-cal-1882-0862_tess_v2_bkg.fits ... [Done]\n",
      "Downloading URL https://mast.stsci.edu/api/v0.1/Download/file?uri=mast:HLSP/eleanor/postcards/s0007/4-3/hlsp_eleanor_tess_ffi_postcard-s0007-4-3-cal-1882-0862_tess_v2_pc.fits to /home/ana/.eleanor/mastDownload/HLSP/hlsp_eleanor_tess_ffi_postcard-s0007-4-3-cal-1882-0862_tess_v2_pc/hlsp_eleanor_tess_ffi_postcard-s0007-4-3-cal-1882-0862_tess_v2_pc.fits ... [Done]\n",
      "Downloading URL https://mast.stsci.edu/api/v0.1/Download/file?uri=mast:HLSP/eleanor/postcards/s0007/4-3/hlsp_eleanor_tess_ffi_postcard-s0007-4-3_tess_v2_pm.txt to /home/ana/.eleanor/mastDownload/HLSP/hlsp_eleanor_tess_ffi_postcard-s0007-4-3-cal-1882-0862_tess_v2_pc/hlsp_eleanor_tess_ffi_postcard-s0007-4-3_tess_v2_pm.txt ... [Done]\n",
      "Downloading URL https://mast.stsci.edu/api/v0.1/Download/file?uri=mast:HLSP/eleanor/postcards/s0008/4-4/hlsp_eleanor_tess_ffi_postcard-s0008-4-4-cal-0314-0862_tess_v2_bkg.fits to /home/ana/.eleanor/mastDownload/HLSP/hlsp_eleanor_tess_ffi_postcard-s0008-4-4-cal-0314-0862_tess_v2_pc/hlsp_eleanor_tess_ffi_postcard-s0008-4-4-cal-0314-0862_tess_v2_bkg.fits ... [Done]\n",
      "Downloading URL https://mast.stsci.edu/api/v0.1/Download/file?uri=mast:HLSP/eleanor/postcards/s0008/4-4/hlsp_eleanor_tess_ffi_postcard-s0008-4-4-cal-0314-0862_tess_v2_pc.fits to /home/ana/.eleanor/mastDownload/HLSP/hlsp_eleanor_tess_ffi_postcard-s0008-4-4-cal-0314-0862_tess_v2_pc/hlsp_eleanor_tess_ffi_postcard-s0008-4-4-cal-0314-0862_tess_v2_pc.fits ... [Done]\n",
      "Downloading URL https://mast.stsci.edu/api/v0.1/Download/file?uri=mast:HLSP/eleanor/postcards/s0009/4-4/hlsp_eleanor_tess_ffi_postcard-s0009-4-4-cal-0804-1132_tess_v2_bkg.fits to /home/ana/.eleanor/mastDownload/HLSP/hlsp_eleanor_tess_ffi_postcard-s0009-4-4-cal-0804-1132_tess_v2_pc/hlsp_eleanor_tess_ffi_postcard-s0009-4-4-cal-0804-1132_tess_v2_bkg.fits ... [Done]\n",
      "Downloading URL https://mast.stsci.edu/api/v0.1/Download/file?uri=mast:HLSP/eleanor/postcards/s0009/4-4/hlsp_eleanor_tess_ffi_postcard-s0009-4-4-cal-0804-1132_tess_v2_pc.fits to /home/ana/.eleanor/mastDownload/HLSP/hlsp_eleanor_tess_ffi_postcard-s0009-4-4-cal-0804-1132_tess_v2_pc/hlsp_eleanor_tess_ffi_postcard-s0009-4-4-cal-0804-1132_tess_v2_pc.fits ... [Done]\n",
      "Downloading URL https://mast.stsci.edu/api/v0.1/Download/file?uri=mast:HLSP/eleanor/postcards/s0010/4-4/hlsp_eleanor_tess_ffi_postcard-s0010-4-4-cal-1196-1618_tess_v2_bkg.fits to /home/ana/.eleanor/mastDownload/HLSP/hlsp_eleanor_tess_ffi_postcard-s0010-4-4-cal-1196-1618_tess_v2_pc/hlsp_eleanor_tess_ffi_postcard-s0010-4-4-cal-1196-1618_tess_v2_bkg.fits ... [Done]\n"
     ]
    },
    {
     "name": "stdout",
     "output_type": "stream",
     "text": [
      "Downloading URL https://mast.stsci.edu/api/v0.1/Download/file?uri=mast:HLSP/eleanor/postcards/s0010/4-4/hlsp_eleanor_tess_ffi_postcard-s0010-4-4-cal-1196-1618_tess_v2_pc.fits to /home/ana/.eleanor/mastDownload/HLSP/hlsp_eleanor_tess_ffi_postcard-s0010-4-4-cal-1196-1618_tess_v2_pc/hlsp_eleanor_tess_ffi_postcard-s0010-4-4-cal-1196-1618_tess_v2_pc.fits ... [Done]\n",
      "Downloading URL https://mast.stsci.edu/api/v0.1/Download/file?uri=mast:HLSP/eleanor/postcards/s0010/4-4/hlsp_eleanor_tess_ffi_postcard-s0010-4-4_tess_v2_pm.txt to /home/ana/.eleanor/mastDownload/HLSP/hlsp_eleanor_tess_ffi_postcard-s0010-4-4-cal-1196-1618_tess_v2_pc/hlsp_eleanor_tess_ffi_postcard-s0010-4-4_tess_v2_pm.txt ... [Done]\n",
      "Downloading URL https://mast.stsci.edu/api/v0.1/Download/file?uri=mast:HLSP/eleanor/postcards/s0011/4-1/hlsp_eleanor_tess_ffi_postcard-s0011-4-1-cal-0902-1996_tess_v2_bkg.fits to /home/ana/.eleanor/mastDownload/HLSP/hlsp_eleanor_tess_ffi_postcard-s0011-4-1-cal-0902-1996_tess_v2_pc/hlsp_eleanor_tess_ffi_postcard-s0011-4-1-cal-0902-1996_tess_v2_bkg.fits ... [Done]\n",
      "Downloading URL https://mast.stsci.edu/api/v0.1/Download/file?uri=mast:HLSP/eleanor/postcards/s0011/4-1/hlsp_eleanor_tess_ffi_postcard-s0011-4-1-cal-0902-1996_tess_v2_pc.fits to /home/ana/.eleanor/mastDownload/HLSP/hlsp_eleanor_tess_ffi_postcard-s0011-4-1-cal-0902-1996_tess_v2_pc/hlsp_eleanor_tess_ffi_postcard-s0011-4-1-cal-0902-1996_tess_v2_pc.fits ... [Done]\n",
      "Downloading URL https://mast.stsci.edu/api/v0.1/Download/file?uri=mast:HLSP/eleanor/postcards/s0012/4-1/hlsp_eleanor_tess_ffi_postcard-s0012-4-1-cal-1098-1402_tess_v2_bkg.fits to /home/ana/.eleanor/mastDownload/HLSP/hlsp_eleanor_tess_ffi_postcard-s0012-4-1-cal-1098-1402_tess_v2_pc/hlsp_eleanor_tess_ffi_postcard-s0012-4-1-cal-1098-1402_tess_v2_bkg.fits ... [Done]\n",
      "Downloading URL https://mast.stsci.edu/api/v0.1/Download/file?uri=mast:HLSP/eleanor/postcards/s0012/4-1/hlsp_eleanor_tess_ffi_postcard-s0012-4-1-cal-1098-1402_tess_v2_pc.fits to /home/ana/.eleanor/mastDownload/HLSP/hlsp_eleanor_tess_ffi_postcard-s0012-4-1-cal-1098-1402_tess_v2_pc/hlsp_eleanor_tess_ffi_postcard-s0012-4-1-cal-1098-1402_tess_v2_pc.fits ... [Done]\n",
      "Downloading URL https://mast.stsci.edu/api/v0.1/Download/file?uri=mast:HLSP/eleanor/postcards/s0013/4-1/hlsp_eleanor_tess_ffi_postcard-s0013-4-1-cal-1490-0970_tess_v2_bkg.fits to /home/ana/.eleanor/mastDownload/HLSP/hlsp_eleanor_tess_ffi_postcard-s0013-4-1-cal-1490-0970_tess_v2_pc/hlsp_eleanor_tess_ffi_postcard-s0013-4-1-cal-1490-0970_tess_v2_bkg.fits ... [Done]\n",
      "Downloading URL https://mast.stsci.edu/api/v0.1/Download/file?uri=mast:HLSP/eleanor/postcards/s0013/4-1/hlsp_eleanor_tess_ffi_postcard-s0013-4-1-cal-1490-0970_tess_v2_pc.fits to /home/ana/.eleanor/mastDownload/HLSP/hlsp_eleanor_tess_ffi_postcard-s0013-4-1-cal-1490-0970_tess_v2_pc/hlsp_eleanor_tess_ffi_postcard-s0013-4-1-cal-1490-0970_tess_v2_pc.fits ... [Done]\n",
      "Downloading URL https://mast.stsci.edu/api/v0.1/Download/file?uri=mast:HLSP/eleanor/postcards/s0013/4-1/hlsp_eleanor_tess_ffi_postcard-s0013-4-1_tess_v2_pm.txt to /home/ana/.eleanor/mastDownload/HLSP/hlsp_eleanor_tess_ffi_postcard-s0013-4-1-cal-1490-0970_tess_v2_pc/hlsp_eleanor_tess_ffi_postcard-s0013-4-1_tess_v2_pm.txt ... [Done]\n",
      "1\n"
     ]
    },
    {
     "name": "stderr",
     "output_type": "stream",
     "text": [
      "WARNING: FITSFixedWarning: 'datfix' made the change 'Set MJD-OBS to 58324.813055 from DATE-OBS.\n",
      "Set DATE-BEG to '2018-07-25T19:31:57.119' from MJD-BEG'. [astropy.wcs.wcs]\n",
      "WARNING: The \"exact\" method is not yet implemented for rectangular apertures -- using \"subpixel\" method with \"subpixels=32\" [photutils.aperture.core]\n"
     ]
    },
    {
     "name": "stdout",
     "output_type": "stream",
     "text": [
      "2\n"
     ]
    },
    {
     "name": "stderr",
     "output_type": "stream",
     "text": [
      "WARNING: FITSFixedWarning: 'datfix' made the change 'Set MJD-OBS to 58353.604707 from DATE-OBS.\n",
      "Set DATE-BEG to '2018-08-23T14:31:55.897' from MJD-BEG'. [astropy.wcs.wcs]\n",
      "WARNING: The \"exact\" method is not yet implemented for rectangular apertures -- using \"subpixel\" method with \"subpixels=32\" [photutils.aperture.core]\n"
     ]
    },
    {
     "name": "stdout",
     "output_type": "stream",
     "text": [
      "3\n"
     ]
    },
    {
     "name": "stderr",
     "output_type": "stream",
     "text": [
      "WARNING: FITSFixedWarning: 'datfix' made the change 'Set MJD-OBS to 58381.542202 from DATE-OBS.\n",
      "Set DATE-BEG to '2018-09-20T13:01:55.436' from MJD-BEG'. [astropy.wcs.wcs]\n",
      "WARNING: The \"exact\" method is not yet implemented for rectangular apertures -- using \"subpixel\" method with \"subpixels=32\" [photutils.aperture.core]\n"
     ]
    },
    {
     "name": "stdout",
     "output_type": "stream",
     "text": [
      "4\n"
     ]
    },
    {
     "name": "stderr",
     "output_type": "stream",
     "text": [
      "WARNING: FITSFixedWarning: 'datfix' made the change 'Set MJD-OBS to 58410.417183 from DATE-OBS.\n",
      "Set DATE-BEG to '2018-10-19T10:01:53.806' from MJD-BEG'. [astropy.wcs.wcs]\n",
      "WARNING: The \"exact\" method is not yet implemented for rectangular apertures -- using \"subpixel\" method with \"subpixels=32\" [photutils.aperture.core]\n"
     ]
    },
    {
     "name": "stdout",
     "output_type": "stream",
     "text": [
      "5\n"
     ]
    },
    {
     "name": "stderr",
     "output_type": "stream",
     "text": [
      "WARNING: FITSFixedWarning: 'datfix' made the change 'Set MJD-OBS to 58437.478456 from DATE-OBS.\n",
      "Set DATE-BEG to '2018-11-15T11:30:07.817' from MJD-BEG'. [astropy.wcs.wcs]\n",
      "WARNING: The \"exact\" method is not yet implemented for rectangular apertures -- using \"subpixel\" method with \"subpixels=32\" [photutils.aperture.core]\n"
     ]
    },
    {
     "name": "stdout",
     "output_type": "stream",
     "text": [
      "6\n"
     ]
    },
    {
     "name": "stderr",
     "output_type": "stream",
     "text": [
      "WARNING: FITSFixedWarning: 'datfix' made the change 'Set MJD-OBS to 58467.770077 from DATE-OBS.\n",
      "Set DATE-BEG to '2018-12-15T18:30:03.839' from MJD-BEG'. [astropy.wcs.wcs]\n",
      "WARNING: The \"exact\" method is not yet implemented for rectangular apertures -- using \"subpixel\" method with \"subpixels=32\" [photutils.aperture.core]\n"
     ]
    },
    {
     "name": "stdout",
     "output_type": "stream",
     "text": [
      "7\n"
     ]
    },
    {
     "name": "stderr",
     "output_type": "stream",
     "text": [
      "WARNING: FITSFixedWarning: 'datfix' made the change 'Set MJD-OBS to 58491.124255 from DATE-OBS.\n",
      "Set DATE-BEG to '2019-01-08T03:00:04.773' from MJD-BEG'. [astropy.wcs.wcs]\n",
      "WARNING: The \"exact\" method is not yet implemented for rectangular apertures -- using \"subpixel\" method with \"subpixels=32\" [photutils.aperture.core]\n"
     ]
    },
    {
     "name": "stdout",
     "output_type": "stream",
     "text": [
      "8\n"
     ]
    },
    {
     "name": "stderr",
     "output_type": "stream",
     "text": [
      "WARNING: FITSFixedWarning: 'datfix' made the change 'Set MJD-OBS to 58516.853135 from DATE-OBS.\n",
      "Set DATE-BEG to '2019-02-02T20:29:40.053' from MJD-BEG'. [astropy.wcs.wcs]\n",
      "WARNING: The \"exact\" method is not yet implemented for rectangular apertures -- using \"subpixel\" method with \"subpixels=32\" [photutils.aperture.core]\n"
     ]
    },
    {
     "name": "stdout",
     "output_type": "stream",
     "text": [
      "9\n",
      "INFO: \n",
      "                Inconsistent SIP distortion information is present in the FITS header and the WCS object:\n",
      "                SIP coefficients were detected, but CTYPE is missing a \"-SIP\" suffix.\n",
      "                astropy.wcs is using the SIP distortion coefficients,\n",
      "                therefore the coordinates calculated here might be incorrect.\n",
      "\n",
      "                If you do not want to apply the SIP distortion coefficients,\n",
      "                please remove the SIP coefficients from the FITS header or the\n",
      "                WCS object.  As an example, if the image is already distortion-corrected\n",
      "                (e.g., drizzled) then distortion components should not apply and the SIP\n",
      "                coefficients should be removed.\n",
      "\n",
      "                While the SIP distortion coefficients are being applied here, if that was indeed the intent,\n",
      "                for consistency please append \"-SIP\" to the CTYPE in the FITS header or the WCS object.\n",
      "\n",
      "                 [astropy.wcs.wcs]\n"
     ]
    },
    {
     "name": "stderr",
     "output_type": "stream",
     "text": [
      "WARNING: FITSFixedWarning: 'datfix' made the change 'Set MJD-OBS to 58542.728121 from DATE-OBS.\n",
      "Set DATE-BEG to '2019-02-28T17:29:38.874' from MJD-BEG'. [astropy.wcs.wcs]\n",
      "WARNING: The \"exact\" method is not yet implemented for rectangular apertures -- using \"subpixel\" method with \"subpixels=32\" [photutils.aperture.core]\n"
     ]
    },
    {
     "name": "stdout",
     "output_type": "stream",
     "text": [
      "10\n",
      "INFO: \n",
      "                Inconsistent SIP distortion information is present in the FITS header and the WCS object:\n",
      "                SIP coefficients were detected, but CTYPE is missing a \"-SIP\" suffix.\n",
      "                astropy.wcs is using the SIP distortion coefficients,\n",
      "                therefore the coordinates calculated here might be incorrect.\n",
      "\n",
      "                If you do not want to apply the SIP distortion coefficients,\n",
      "                please remove the SIP coefficients from the FITS header or the\n",
      "                WCS object.  As an example, if the image is already distortion-corrected\n",
      "                (e.g., drizzled) then distortion components should not apply and the SIP\n",
      "                coefficients should be removed.\n",
      "\n",
      "                While the SIP distortion coefficients are being applied here, if that was indeed the intent,\n",
      "                for consistency please append \"-SIP\" to the CTYPE in the FITS header or the WCS object.\n",
      "\n",
      "                 [astropy.wcs.wcs]\n"
     ]
    },
    {
     "name": "stderr",
     "output_type": "stream",
     "text": [
      "WARNING: FITSFixedWarning: 'datfix' made the change 'Set MJD-OBS to 58568.936438 from DATE-OBS.\n",
      "Set DATE-BEG to '2019-03-26T22:29:37.438' from MJD-BEG'. [astropy.wcs.wcs]\n",
      "WARNING: The \"exact\" method is not yet implemented for rectangular apertures -- using \"subpixel\" method with \"subpixels=32\" [photutils.aperture.core]\n"
     ]
    },
    {
     "name": "stdout",
     "output_type": "stream",
     "text": [
      "11\n",
      "INFO: \n",
      "                Inconsistent SIP distortion information is present in the FITS header and the WCS object:\n",
      "                SIP coefficients were detected, but CTYPE is missing a \"-SIP\" suffix.\n",
      "                astropy.wcs is using the SIP distortion coefficients,\n",
      "                therefore the coordinates calculated here might be incorrect.\n",
      "\n",
      "                If you do not want to apply the SIP distortion coefficients,\n",
      "                please remove the SIP coefficients from the FITS header or the\n",
      "                WCS object.  As an example, if the image is already distortion-corrected\n",
      "                (e.g., drizzled) then distortion components should not apply and the SIP\n",
      "                coefficients should be removed.\n",
      "\n",
      "                While the SIP distortion coefficients are being applied here, if that was indeed the intent,\n",
      "                for consistency please append \"-SIP\" to the CTYPE in the FITS header or the WCS object.\n",
      "\n",
      "                 [astropy.wcs.wcs]\n"
     ]
    },
    {
     "name": "stderr",
     "output_type": "stream",
     "text": [
      "WARNING: FITSFixedWarning: 'datfix' made the change 'Set MJD-OBS to 58596.270977 from DATE-OBS.\n",
      "Set DATE-BEG to '2019-04-23T06:31:21.612' from MJD-BEG'. [astropy.wcs.wcs]\n",
      "WARNING: The \"exact\" method is not yet implemented for rectangular apertures -- using \"subpixel\" method with \"subpixels=32\" [photutils.aperture.core]\n"
     ]
    },
    {
     "name": "stdout",
     "output_type": "stream",
     "text": [
      "12\n",
      "INFO: \n",
      "                Inconsistent SIP distortion information is present in the FITS header and the WCS object:\n",
      "                SIP coefficients were detected, but CTYPE is missing a \"-SIP\" suffix.\n",
      "                astropy.wcs is using the SIP distortion coefficients,\n",
      "                therefore the coordinates calculated here might be incorrect.\n",
      "\n",
      "                If you do not want to apply the SIP distortion coefficients,\n",
      "                please remove the SIP coefficients from the FITS header or the\n",
      "                WCS object.  As an example, if the image is already distortion-corrected\n",
      "                (e.g., drizzled) then distortion components should not apply and the SIP\n",
      "                coefficients should be removed.\n",
      "\n",
      "                While the SIP distortion coefficients are being applied here, if that was indeed the intent,\n",
      "                for consistency please append \"-SIP\" to the CTYPE in the FITS header or the WCS object.\n",
      "\n",
      "                 [astropy.wcs.wcs]\n"
     ]
    },
    {
     "name": "stderr",
     "output_type": "stream",
     "text": [
      "WARNING: FITSFixedWarning: 'datfix' made the change 'Set MJD-OBS to 58624.458464 from DATE-OBS.\n",
      "Set DATE-BEG to '2019-05-21T11:01:20.504' from MJD-BEG'. [astropy.wcs.wcs]\n",
      "WARNING: The \"exact\" method is not yet implemented for rectangular apertures -- using \"subpixel\" method with \"subpixels=32\" [photutils.aperture.core]\n"
     ]
    },
    {
     "name": "stdout",
     "output_type": "stream",
     "text": [
      "13\n",
      "INFO: \n",
      "                Inconsistent SIP distortion information is present in the FITS header and the WCS object:\n",
      "                SIP coefficients were detected, but CTYPE is missing a \"-SIP\" suffix.\n",
      "                astropy.wcs is using the SIP distortion coefficients,\n",
      "                therefore the coordinates calculated here might be incorrect.\n",
      "\n",
      "                If you do not want to apply the SIP distortion coefficients,\n",
      "                please remove the SIP coefficients from the FITS header or the\n",
      "                WCS object.  As an example, if the image is already distortion-corrected\n",
      "                (e.g., drizzled) then distortion components should not apply and the SIP\n",
      "                coefficients should be removed.\n",
      "\n",
      "                While the SIP distortion coefficients are being applied here, if that was indeed the intent,\n",
      "                for consistency please append \"-SIP\" to the CTYPE in the FITS header or the WCS object.\n",
      "\n",
      "                 [astropy.wcs.wcs]\n"
     ]
    },
    {
     "name": "stderr",
     "output_type": "stream",
     "text": [
      "WARNING: FITSFixedWarning: 'datfix' made the change 'Set MJD-OBS to 58653.416791 from DATE-OBS.\n",
      "Set DATE-BEG to '2019-06-19T10:01:19.905' from MJD-BEG'. [astropy.wcs.wcs]\n",
      "WARNING: The \"exact\" method is not yet implemented for rectangular apertures -- using \"subpixel\" method with \"subpixels=32\" [photutils.aperture.core]\n"
     ]
    },
    {
     "name": "stdout",
     "output_type": "stream",
     "text": [
      "8 5279888479072732672\n",
      "Downloading URL https://mast.stsci.edu/api/v0.1/Download/file?uri=mast:HLSP/eleanor/postcards/s0002/4-3/hlsp_eleanor_tess_ffi_postcard-s0002-4-3-cal-1784-1834_tess_v2_bkg.fits to /home/ana/.eleanor/mastDownload/HLSP/hlsp_eleanor_tess_ffi_postcard-s0002-4-3-cal-1784-1834_tess_v2_pc/hlsp_eleanor_tess_ffi_postcard-s0002-4-3-cal-1784-1834_tess_v2_bkg.fits ... [Done]\n",
      "Downloading URL https://mast.stsci.edu/api/v0.1/Download/file?uri=mast:HLSP/eleanor/postcards/s0002/4-3/hlsp_eleanor_tess_ffi_postcard-s0002-4-3-cal-1784-1834_tess_v2_pc.fits to /home/ana/.eleanor/mastDownload/HLSP/hlsp_eleanor_tess_ffi_postcard-s0002-4-3-cal-1784-1834_tess_v2_pc/hlsp_eleanor_tess_ffi_postcard-s0002-4-3-cal-1784-1834_tess_v2_pc.fits ... [Done]\n",
      "Downloading URL https://mast.stsci.edu/api/v0.1/Download/file?uri=mast:HLSP/eleanor/postcards/s0003/4-3/hlsp_eleanor_tess_ffi_postcard-s0003-4-3-cal-1882-1672_tess_v2_bkg.fits to /home/ana/.eleanor/mastDownload/HLSP/hlsp_eleanor_tess_ffi_postcard-s0003-4-3-cal-1882-1672_tess_v2_pc/hlsp_eleanor_tess_ffi_postcard-s0003-4-3-cal-1882-1672_tess_v2_bkg.fits ... [Done]\n",
      "Downloading URL https://mast.stsci.edu/api/v0.1/Download/file?uri=mast:HLSP/eleanor/postcards/s0003/4-3/hlsp_eleanor_tess_ffi_postcard-s0003-4-3-cal-1882-1672_tess_v2_pc.fits to /home/ana/.eleanor/mastDownload/HLSP/hlsp_eleanor_tess_ffi_postcard-s0003-4-3-cal-1882-1672_tess_v2_pc/hlsp_eleanor_tess_ffi_postcard-s0003-4-3-cal-1882-1672_tess_v2_pc.fits ... [Done]\n",
      "Downloading URL https://mast.stsci.edu/api/v0.1/Download/file?uri=mast:HLSP/eleanor/postcards/s0005/4-4/hlsp_eleanor_tess_ffi_postcard-s0005-4-4-cal-0216-1672_tess_v2_bkg.fits to /home/ana/.eleanor/mastDownload/HLSP/hlsp_eleanor_tess_ffi_postcard-s0005-4-4-cal-0216-1672_tess_v2_pc/hlsp_eleanor_tess_ffi_postcard-s0005-4-4-cal-0216-1672_tess_v2_bkg.fits ... [Done]\n",
      "Downloading URL https://mast.stsci.edu/api/v0.1/Download/file?uri=mast:HLSP/eleanor/postcards/s0005/4-4/hlsp_eleanor_tess_ffi_postcard-s0005-4-4-cal-0216-1672_tess_v2_pc.fits to /home/ana/.eleanor/mastDownload/HLSP/hlsp_eleanor_tess_ffi_postcard-s0005-4-4-cal-0216-1672_tess_v2_pc/hlsp_eleanor_tess_ffi_postcard-s0005-4-4-cal-0216-1672_tess_v2_pc.fits ... [Done]\n",
      "Downloading URL https://mast.stsci.edu/api/v0.1/Download/file?uri=mast:HLSP/eleanor/postcards/s0005/4-4/hlsp_eleanor_tess_ffi_postcard-s0005-4-4_tess_v2_pm.txt to /home/ana/.eleanor/mastDownload/HLSP/hlsp_eleanor_tess_ffi_postcard-s0005-4-4-cal-0216-1672_tess_v2_pc/hlsp_eleanor_tess_ffi_postcard-s0005-4-4_tess_v2_pm.txt ... [Done]\n",
      "Downloading URL https://mast.stsci.edu/api/v0.1/Download/file?uri=mast:HLSP/eleanor/postcards/s0006/4-4/hlsp_eleanor_tess_ffi_postcard-s0006-4-4-cal-0412-1834_tess_v2_bkg.fits to /home/ana/.eleanor/mastDownload/HLSP/hlsp_eleanor_tess_ffi_postcard-s0006-4-4-cal-0412-1834_tess_v2_pc/hlsp_eleanor_tess_ffi_postcard-s0006-4-4-cal-0412-1834_tess_v2_bkg.fits ... [Done]\n",
      "Downloading URL https://mast.stsci.edu/api/v0.1/Download/file?uri=mast:HLSP/eleanor/postcards/s0006/4-4/hlsp_eleanor_tess_ffi_postcard-s0006-4-4-cal-0412-1834_tess_v2_pc.fits to /home/ana/.eleanor/mastDownload/HLSP/hlsp_eleanor_tess_ffi_postcard-s0006-4-4-cal-0412-1834_tess_v2_pc/hlsp_eleanor_tess_ffi_postcard-s0006-4-4-cal-0412-1834_tess_v2_pc.fits ... [Done]\n",
      "Downloading URL https://mast.stsci.edu/api/v0.1/Download/file?uri=mast:HLSP/eleanor/postcards/s0007/4-4/hlsp_eleanor_tess_ffi_postcard-s0007-4-4-cal-0510-1996_tess_v2_bkg.fits to /home/ana/.eleanor/mastDownload/HLSP/hlsp_eleanor_tess_ffi_postcard-s0007-4-4-cal-0510-1996_tess_v2_pc/hlsp_eleanor_tess_ffi_postcard-s0007-4-4-cal-0510-1996_tess_v2_bkg.fits ... [Done]\n",
      "Downloading URL https://mast.stsci.edu/api/v0.1/Download/file?uri=mast:HLSP/eleanor/postcards/s0007/4-4/hlsp_eleanor_tess_ffi_postcard-s0007-4-4-cal-0510-1996_tess_v2_pc.fits to /home/ana/.eleanor/mastDownload/HLSP/hlsp_eleanor_tess_ffi_postcard-s0007-4-4-cal-0510-1996_tess_v2_pc/hlsp_eleanor_tess_ffi_postcard-s0007-4-4-cal-0510-1996_tess_v2_pc.fits ... [Done]\n",
      "Downloading URL https://mast.stsci.edu/api/v0.1/Download/file?uri=mast:HLSP/eleanor/postcards/s0008/4-1/hlsp_eleanor_tess_ffi_postcard-s0008-4-1-cal-1686-1942_tess_v2_bkg.fits to /home/ana/.eleanor/mastDownload/HLSP/hlsp_eleanor_tess_ffi_postcard-s0008-4-1-cal-1686-1942_tess_v2_pc/hlsp_eleanor_tess_ffi_postcard-s0008-4-1-cal-1686-1942_tess_v2_bkg.fits ... [Done]\n",
      "Downloading URL https://mast.stsci.edu/api/v0.1/Download/file?uri=mast:HLSP/eleanor/postcards/s0008/4-1/hlsp_eleanor_tess_ffi_postcard-s0008-4-1-cal-1686-1942_tess_v2_pc.fits to /home/ana/.eleanor/mastDownload/HLSP/hlsp_eleanor_tess_ffi_postcard-s0008-4-1-cal-1686-1942_tess_v2_pc/hlsp_eleanor_tess_ffi_postcard-s0008-4-1-cal-1686-1942_tess_v2_pc.fits ... [Done]\n",
      "Downloading URL https://mast.stsci.edu/api/v0.1/Download/file?uri=mast:HLSP/eleanor/postcards/s0008/4-1/hlsp_eleanor_tess_ffi_postcard-s0008-4-1_tess_v2_pm.txt to /home/ana/.eleanor/mastDownload/HLSP/hlsp_eleanor_tess_ffi_postcard-s0008-4-1-cal-1686-1942_tess_v2_pc/hlsp_eleanor_tess_ffi_postcard-s0008-4-1_tess_v2_pm.txt ... [Done]\n",
      "Downloading URL https://mast.stsci.edu/api/v0.1/Download/file?uri=mast:HLSP/eleanor/postcards/s0009/4-1/hlsp_eleanor_tess_ffi_postcard-s0009-4-1-cal-1784-1780_tess_v2_bkg.fits to /home/ana/.eleanor/mastDownload/HLSP/hlsp_eleanor_tess_ffi_postcard-s0009-4-1-cal-1784-1780_tess_v2_pc/hlsp_eleanor_tess_ffi_postcard-s0009-4-1-cal-1784-1780_tess_v2_bkg.fits ... [Done]\n",
      "Downloading URL https://mast.stsci.edu/api/v0.1/Download/file?uri=mast:HLSP/eleanor/postcards/s0009/4-1/hlsp_eleanor_tess_ffi_postcard-s0009-4-1-cal-1784-1780_tess_v2_pc.fits to /home/ana/.eleanor/mastDownload/HLSP/hlsp_eleanor_tess_ffi_postcard-s0009-4-1-cal-1784-1780_tess_v2_pc/hlsp_eleanor_tess_ffi_postcard-s0009-4-1-cal-1784-1780_tess_v2_pc.fits ... [Done]\n",
      "Downloading URL https://mast.stsci.edu/api/v0.1/Download/file?uri=mast:HLSP/eleanor/postcards/s0010/4-1/hlsp_eleanor_tess_ffi_postcard-s0010-4-1-cal-1980-1618_tess_v2_bkg.fits to /home/ana/.eleanor/mastDownload/HLSP/hlsp_eleanor_tess_ffi_postcard-s0010-4-1-cal-1980-1618_tess_v2_pc/hlsp_eleanor_tess_ffi_postcard-s0010-4-1-cal-1980-1618_tess_v2_bkg.fits ... [Done]\n",
      "Downloading URL https://mast.stsci.edu/api/v0.1/Download/file?uri=mast:HLSP/eleanor/postcards/s0010/4-1/hlsp_eleanor_tess_ffi_postcard-s0010-4-1-cal-1980-1618_tess_v2_pc.fits to /home/ana/.eleanor/mastDownload/HLSP/hlsp_eleanor_tess_ffi_postcard-s0010-4-1-cal-1980-1618_tess_v2_pc/hlsp_eleanor_tess_ffi_postcard-s0010-4-1-cal-1980-1618_tess_v2_pc.fits ... [Done]\n",
      "Downloading URL https://mast.stsci.edu/api/v0.1/Download/file?uri=mast:HLSP/eleanor/postcards/s0011/4-2/hlsp_eleanor_tess_ffi_postcard-s0011-4-2-cal-0118-1618_tess_v2_bkg.fits to /home/ana/.eleanor/mastDownload/HLSP/hlsp_eleanor_tess_ffi_postcard-s0011-4-2-cal-0118-1618_tess_v2_pc/hlsp_eleanor_tess_ffi_postcard-s0011-4-2-cal-0118-1618_tess_v2_bkg.fits ... [Done]\n",
      "Downloading URL https://mast.stsci.edu/api/v0.1/Download/file?uri=mast:HLSP/eleanor/postcards/s0011/4-2/hlsp_eleanor_tess_ffi_postcard-s0011-4-2-cal-0118-1618_tess_v2_pc.fits to /home/ana/.eleanor/mastDownload/HLSP/hlsp_eleanor_tess_ffi_postcard-s0011-4-2-cal-0118-1618_tess_v2_pc/hlsp_eleanor_tess_ffi_postcard-s0011-4-2-cal-0118-1618_tess_v2_pc.fits ... [Done]\n",
      "Downloading URL https://mast.stsci.edu/api/v0.1/Download/file?uri=mast:HLSP/eleanor/postcards/s0011/4-2/hlsp_eleanor_tess_ffi_postcard-s0011-4-2_tess_v2_pm.txt to /home/ana/.eleanor/mastDownload/HLSP/hlsp_eleanor_tess_ffi_postcard-s0011-4-2-cal-0118-1618_tess_v2_pc/hlsp_eleanor_tess_ffi_postcard-s0011-4-2_tess_v2_pm.txt ... [Done]\n",
      "Downloading URL https://mast.stsci.edu/api/v0.1/Download/file?uri=mast:HLSP/eleanor/postcards/s0012/4-2/hlsp_eleanor_tess_ffi_postcard-s0012-4-2-cal-0216-1726_tess_v2_bkg.fits to /home/ana/.eleanor/mastDownload/HLSP/hlsp_eleanor_tess_ffi_postcard-s0012-4-2-cal-0216-1726_tess_v2_pc/hlsp_eleanor_tess_ffi_postcard-s0012-4-2-cal-0216-1726_tess_v2_bkg.fits ... [Done]\n"
     ]
    },
    {
     "name": "stdout",
     "output_type": "stream",
     "text": [
      "Downloading URL https://mast.stsci.edu/api/v0.1/Download/file?uri=mast:HLSP/eleanor/postcards/s0012/4-2/hlsp_eleanor_tess_ffi_postcard-s0012-4-2-cal-0216-1726_tess_v2_pc.fits to /home/ana/.eleanor/mastDownload/HLSP/hlsp_eleanor_tess_ffi_postcard-s0012-4-2-cal-0216-1726_tess_v2_pc/hlsp_eleanor_tess_ffi_postcard-s0012-4-2-cal-0216-1726_tess_v2_pc.fits ... [Done]\n",
      "Downloading URL https://mast.stsci.edu/api/v0.1/Download/file?uri=mast:HLSP/eleanor/postcards/s0013/4-2/hlsp_eleanor_tess_ffi_postcard-s0013-4-2-cal-0412-1888_tess_v2_bkg.fits to /home/ana/.eleanor/mastDownload/HLSP/hlsp_eleanor_tess_ffi_postcard-s0013-4-2-cal-0412-1888_tess_v2_pc/hlsp_eleanor_tess_ffi_postcard-s0013-4-2-cal-0412-1888_tess_v2_bkg.fits ... [Done]\n",
      "Downloading URL https://mast.stsci.edu/api/v0.1/Download/file?uri=mast:HLSP/eleanor/postcards/s0013/4-2/hlsp_eleanor_tess_ffi_postcard-s0013-4-2-cal-0412-1888_tess_v2_pc.fits to /home/ana/.eleanor/mastDownload/HLSP/hlsp_eleanor_tess_ffi_postcard-s0013-4-2-cal-0412-1888_tess_v2_pc/hlsp_eleanor_tess_ffi_postcard-s0013-4-2-cal-0412-1888_tess_v2_pc.fits ... [Done]\n",
      "2\n"
     ]
    },
    {
     "name": "stderr",
     "output_type": "stream",
     "text": [
      "WARNING: FITSFixedWarning: 'datfix' made the change 'Set MJD-OBS to 58353.603470 from DATE-OBS.\n",
      "Set DATE-BEG to '2018-08-23T14:30:09.031' from MJD-BEG'. [astropy.wcs.wcs]\n",
      "WARNING: The \"exact\" method is not yet implemented for rectangular apertures -- using \"subpixel\" method with \"subpixels=32\" [photutils.aperture.core]\n"
     ]
    },
    {
     "name": "stdout",
     "output_type": "stream",
     "text": [
      "3\n"
     ]
    },
    {
     "name": "stderr",
     "output_type": "stream",
     "text": [
      "WARNING: FITSFixedWarning: 'datfix' made the change 'Set MJD-OBS to 58381.540973 from DATE-OBS.\n",
      "Set DATE-BEG to '2018-09-20T13:00:09.232' from MJD-BEG'. [astropy.wcs.wcs]\n",
      "WARNING: The \"exact\" method is not yet implemented for rectangular apertures -- using \"subpixel\" method with \"subpixels=32\" [photutils.aperture.core]\n"
     ]
    },
    {
     "name": "stdout",
     "output_type": "stream",
     "text": [
      "5\n"
     ]
    },
    {
     "name": "stderr",
     "output_type": "stream",
     "text": [
      "WARNING: FITSFixedWarning: 'datfix' made the change 'Set MJD-OBS to 58437.478179 from DATE-OBS.\n",
      "Set DATE-BEG to '2018-11-15T11:29:43.834' from MJD-BEG'. [astropy.wcs.wcs]\n",
      "WARNING: The \"exact\" method is not yet implemented for rectangular apertures -- using \"subpixel\" method with \"subpixels=32\" [photutils.aperture.core]\n"
     ]
    },
    {
     "name": "stdout",
     "output_type": "stream",
     "text": [
      "6\n"
     ]
    },
    {
     "name": "stderr",
     "output_type": "stream",
     "text": [
      "WARNING: FITSFixedWarning: 'datfix' made the change 'Set MJD-OBS to 58467.769873 from DATE-OBS.\n",
      "Set DATE-BEG to '2018-12-15T18:29:46.237' from MJD-BEG'. [astropy.wcs.wcs]\n",
      "WARNING: The \"exact\" method is not yet implemented for rectangular apertures -- using \"subpixel\" method with \"subpixels=32\" [photutils.aperture.core]\n"
     ]
    },
    {
     "name": "stdout",
     "output_type": "stream",
     "text": [
      "7\n"
     ]
    },
    {
     "name": "stderr",
     "output_type": "stream",
     "text": [
      "WARNING: FITSFixedWarning: 'datfix' made the change 'Set MJD-OBS to 58491.123983 from DATE-OBS.\n",
      "Set DATE-BEG to '2019-01-08T02:59:41.285' from MJD-BEG'. [astropy.wcs.wcs]\n",
      "WARNING: The \"exact\" method is not yet implemented for rectangular apertures -- using \"subpixel\" method with \"subpixels=32\" [photutils.aperture.core]\n"
     ]
    },
    {
     "name": "stdout",
     "output_type": "stream",
     "text": [
      "8\n"
     ]
    },
    {
     "name": "stderr",
     "output_type": "stream",
     "text": [
      "WARNING: FITSFixedWarning: 'datfix' made the change 'Set MJD-OBS to 58516.854349 from DATE-OBS.\n",
      "Set DATE-BEG to '2019-02-02T20:31:24.935' from MJD-BEG'. [astropy.wcs.wcs]\n",
      "WARNING: The \"exact\" method is not yet implemented for rectangular apertures -- using \"subpixel\" method with \"subpixels=32\" [photutils.aperture.core]\n"
     ]
    },
    {
     "name": "stdout",
     "output_type": "stream",
     "text": [
      "9\n",
      "INFO: \n",
      "                Inconsistent SIP distortion information is present in the FITS header and the WCS object:\n",
      "                SIP coefficients were detected, but CTYPE is missing a \"-SIP\" suffix.\n",
      "                astropy.wcs is using the SIP distortion coefficients,\n",
      "                therefore the coordinates calculated here might be incorrect.\n",
      "\n",
      "                If you do not want to apply the SIP distortion coefficients,\n",
      "                please remove the SIP coefficients from the FITS header or the\n",
      "                WCS object.  As an example, if the image is already distortion-corrected\n",
      "                (e.g., drizzled) then distortion components should not apply and the SIP\n",
      "                coefficients should be removed.\n",
      "\n",
      "                While the SIP distortion coefficients are being applied here, if that was indeed the intent,\n",
      "                for consistency please append \"-SIP\" to the CTYPE in the FITS header or the WCS object.\n",
      "\n",
      "                 [astropy.wcs.wcs]\n"
     ]
    },
    {
     "name": "stderr",
     "output_type": "stream",
     "text": [
      "WARNING: FITSFixedWarning: 'datfix' made the change 'Set MJD-OBS to 58542.729338 from DATE-OBS.\n",
      "Set DATE-BEG to '2019-02-28T17:31:23.974' from MJD-BEG'. [astropy.wcs.wcs]\n",
      "WARNING: The \"exact\" method is not yet implemented for rectangular apertures -- using \"subpixel\" method with \"subpixels=32\" [photutils.aperture.core]\n"
     ]
    },
    {
     "name": "stdout",
     "output_type": "stream",
     "text": [
      "10\n",
      "INFO: \n",
      "                Inconsistent SIP distortion information is present in the FITS header and the WCS object:\n",
      "                SIP coefficients were detected, but CTYPE is missing a \"-SIP\" suffix.\n",
      "                astropy.wcs is using the SIP distortion coefficients,\n",
      "                therefore the coordinates calculated here might be incorrect.\n",
      "\n",
      "                If you do not want to apply the SIP distortion coefficients,\n",
      "                please remove the SIP coefficients from the FITS header or the\n",
      "                WCS object.  As an example, if the image is already distortion-corrected\n",
      "                (e.g., drizzled) then distortion components should not apply and the SIP\n",
      "                coefficients should be removed.\n",
      "\n",
      "                While the SIP distortion coefficients are being applied here, if that was indeed the intent,\n",
      "                for consistency please append \"-SIP\" to the CTYPE in the FITS header or the WCS object.\n",
      "\n",
      "                 [astropy.wcs.wcs]\n"
     ]
    },
    {
     "name": "stderr",
     "output_type": "stream",
     "text": [
      "WARNING: FITSFixedWarning: 'datfix' made the change 'Set MJD-OBS to 58568.937658 from DATE-OBS.\n",
      "Set DATE-BEG to '2019-03-26T22:31:22.810' from MJD-BEG'. [astropy.wcs.wcs]\n",
      "WARNING: The \"exact\" method is not yet implemented for rectangular apertures -- using \"subpixel\" method with \"subpixels=32\" [photutils.aperture.core]\n"
     ]
    },
    {
     "name": "stdout",
     "output_type": "stream",
     "text": [
      "11\n",
      "INFO: \n",
      "                Inconsistent SIP distortion information is present in the FITS header and the WCS object:\n",
      "                SIP coefficients were detected, but CTYPE is missing a \"-SIP\" suffix.\n",
      "                astropy.wcs is using the SIP distortion coefficients,\n",
      "                therefore the coordinates calculated here might be incorrect.\n",
      "\n",
      "                If you do not want to apply the SIP distortion coefficients,\n",
      "                please remove the SIP coefficients from the FITS header or the\n",
      "                WCS object.  As an example, if the image is already distortion-corrected\n",
      "                (e.g., drizzled) then distortion components should not apply and the SIP\n",
      "                coefficients should be removed.\n",
      "\n",
      "                While the SIP distortion coefficients are being applied here, if that was indeed the intent,\n",
      "                for consistency please append \"-SIP\" to the CTYPE in the FITS header or the WCS object.\n",
      "\n",
      "                 [astropy.wcs.wcs]\n"
     ]
    },
    {
     "name": "stderr",
     "output_type": "stream",
     "text": [
      "WARNING: FITSFixedWarning: 'datfix' made the change 'Set MJD-OBS to 58596.271278 from DATE-OBS.\n",
      "Set DATE-BEG to '2019-04-23T06:31:47.566' from MJD-BEG'. [astropy.wcs.wcs]\n",
      "/usr/lib/python3.6/site-packages/eleanor/targetdata.py:336: UserWarning: The size postage stamp you are requesting falls off the edge of the postcard.\n",
      "  warnings.warn(\"The size postage stamp you are requesting falls off the edge of the postcard.\")\n",
      "/usr/lib/python3.6/site-packages/eleanor/targetdata.py:337: UserWarning: WARNING: Your postage stamp may not be centered.\n",
      "  warnings.warn(\"WARNING: Your postage stamp may not be centered.\")\n",
      "WARNING: The \"exact\" method is not yet implemented for rectangular apertures -- using \"subpixel\" method with \"subpixels=32\" [photutils.aperture.core]\n"
     ]
    },
    {
     "name": "stdout",
     "output_type": "stream",
     "text": [
      "12\n",
      "INFO: \n",
      "                Inconsistent SIP distortion information is present in the FITS header and the WCS object:\n",
      "                SIP coefficients were detected, but CTYPE is missing a \"-SIP\" suffix.\n",
      "                astropy.wcs is using the SIP distortion coefficients,\n",
      "                therefore the coordinates calculated here might be incorrect.\n",
      "\n",
      "                If you do not want to apply the SIP distortion coefficients,\n",
      "                please remove the SIP coefficients from the FITS header or the\n",
      "                WCS object.  As an example, if the image is already distortion-corrected\n",
      "                (e.g., drizzled) then distortion components should not apply and the SIP\n",
      "                coefficients should be removed.\n",
      "\n",
      "                While the SIP distortion coefficients are being applied here, if that was indeed the intent,\n",
      "                for consistency please append \"-SIP\" to the CTYPE in the FITS header or the WCS object.\n",
      "\n",
      "                 [astropy.wcs.wcs]\n"
     ]
    },
    {
     "name": "stderr",
     "output_type": "stream",
     "text": [
      "WARNING: FITSFixedWarning: 'datfix' made the change 'Set MJD-OBS to 58624.458771 from DATE-OBS.\n",
      "Set DATE-BEG to '2019-05-21T11:01:47.002' from MJD-BEG'. [astropy.wcs.wcs]\n",
      "WARNING: The \"exact\" method is not yet implemented for rectangular apertures -- using \"subpixel\" method with \"subpixels=32\" [photutils.aperture.core]\n"
     ]
    },
    {
     "name": "stdout",
     "output_type": "stream",
     "text": [
      "13\n",
      "INFO: \n",
      "                Inconsistent SIP distortion information is present in the FITS header and the WCS object:\n",
      "                SIP coefficients were detected, but CTYPE is missing a \"-SIP\" suffix.\n",
      "                astropy.wcs is using the SIP distortion coefficients,\n",
      "                therefore the coordinates calculated here might be incorrect.\n",
      "\n",
      "                If you do not want to apply the SIP distortion coefficients,\n",
      "                please remove the SIP coefficients from the FITS header or the\n",
      "                WCS object.  As an example, if the image is already distortion-corrected\n",
      "                (e.g., drizzled) then distortion components should not apply and the SIP\n",
      "                coefficients should be removed.\n",
      "\n",
      "                While the SIP distortion coefficients are being applied here, if that was indeed the intent,\n",
      "                for consistency please append \"-SIP\" to the CTYPE in the FITS header or the WCS object.\n",
      "\n",
      "                 [astropy.wcs.wcs]\n"
     ]
    },
    {
     "name": "stderr",
     "output_type": "stream",
     "text": [
      "WARNING: FITSFixedWarning: 'datfix' made the change 'Set MJD-OBS to 58653.417091 from DATE-OBS.\n",
      "Set DATE-BEG to '2019-06-19T10:01:45.855' from MJD-BEG'. [astropy.wcs.wcs]\n",
      "WARNING: The \"exact\" method is not yet implemented for rectangular apertures -- using \"subpixel\" method with \"subpixels=32\" [photutils.aperture.core]\n"
     ]
    },
    {
     "name": "stdout",
     "output_type": "stream",
     "text": [
      "9 5279854806528580480\n",
      "Downloading URL https://mast.stsci.edu/api/v0.1/Download/file?uri=mast:HLSP/eleanor/postcards/s0002/4-3/hlsp_eleanor_tess_ffi_postcard-s0002-4-3-cal-1784-1942_tess_v2_bkg.fits to /home/ana/.eleanor/mastDownload/HLSP/hlsp_eleanor_tess_ffi_postcard-s0002-4-3-cal-1784-1942_tess_v2_pc/hlsp_eleanor_tess_ffi_postcard-s0002-4-3-cal-1784-1942_tess_v2_bkg.fits ... [Done]\n",
      "Downloading URL https://mast.stsci.edu/api/v0.1/Download/file?uri=mast:HLSP/eleanor/postcards/s0002/4-3/hlsp_eleanor_tess_ffi_postcard-s0002-4-3-cal-1784-1942_tess_v2_pc.fits to /home/ana/.eleanor/mastDownload/HLSP/hlsp_eleanor_tess_ffi_postcard-s0002-4-3-cal-1784-1942_tess_v2_pc/hlsp_eleanor_tess_ffi_postcard-s0002-4-3-cal-1784-1942_tess_v2_pc.fits ... [Done]\n",
      "Downloading URL https://mast.stsci.edu/api/v0.1/Download/file?uri=mast:HLSP/eleanor/postcards/s0003/4-3/hlsp_eleanor_tess_ffi_postcard-s0003-4-3-cal-1882-1780_tess_v2_bkg.fits to /home/ana/.eleanor/mastDownload/HLSP/hlsp_eleanor_tess_ffi_postcard-s0003-4-3-cal-1882-1780_tess_v2_pc/hlsp_eleanor_tess_ffi_postcard-s0003-4-3-cal-1882-1780_tess_v2_bkg.fits ... [Done]\n",
      "Downloading URL https://mast.stsci.edu/api/v0.1/Download/file?uri=mast:HLSP/eleanor/postcards/s0003/4-3/hlsp_eleanor_tess_ffi_postcard-s0003-4-3-cal-1882-1780_tess_v2_pc.fits to /home/ana/.eleanor/mastDownload/HLSP/hlsp_eleanor_tess_ffi_postcard-s0003-4-3-cal-1882-1780_tess_v2_pc/hlsp_eleanor_tess_ffi_postcard-s0003-4-3-cal-1882-1780_tess_v2_pc.fits ... [Done]\n"
     ]
    },
    {
     "name": "stderr",
     "output_type": "stream",
     "text": [
      "WARNING: NoResultsWarning: Query returned no results. [astroquery.mast.core]\n"
     ]
    },
    {
     "name": "stdout",
     "output_type": "stream",
     "text": [
      "No eleanor postcard has been made for your target (yet). Using TessCut instead.\n",
      "Downloading URL https://mast.stsci.edu/tesscut/api/v0.1/astrocut?ra=94.59633546146826&dec=-68.49879253268179&y=31&x=31&units=px&sector=4 to /home/ana/.eleanor/tesscut/tesscut_20200318180832.zip ... [Done]\n",
      "Inflating...\n",
      "Downloading URL https://mast.stsci.edu/api/v0.1/Download/file?uri=mast:HLSP/eleanor/postcards/s0005/4-4/hlsp_eleanor_tess_ffi_postcard-s0005-4-4-cal-0118-1672_tess_v2_bkg.fits to /home/ana/.eleanor/mastDownload/HLSP/hlsp_eleanor_tess_ffi_postcard-s0005-4-4-cal-0118-1672_tess_v2_pc/hlsp_eleanor_tess_ffi_postcard-s0005-4-4-cal-0118-1672_tess_v2_bkg.fits ... [Done]\n",
      "Downloading URL https://mast.stsci.edu/api/v0.1/Download/file?uri=mast:HLSP/eleanor/postcards/s0005/4-4/hlsp_eleanor_tess_ffi_postcard-s0005-4-4-cal-0118-1672_tess_v2_pc.fits to /home/ana/.eleanor/mastDownload/HLSP/hlsp_eleanor_tess_ffi_postcard-s0005-4-4-cal-0118-1672_tess_v2_pc/hlsp_eleanor_tess_ffi_postcard-s0005-4-4-cal-0118-1672_tess_v2_pc.fits ... [Done]\n",
      "Downloading URL https://mast.stsci.edu/api/v0.1/Download/file?uri=mast:HLSP/eleanor/postcards/s0006/4-4/hlsp_eleanor_tess_ffi_postcard-s0006-4-4-cal-0314-1780_tess_v2_bkg.fits to /home/ana/.eleanor/mastDownload/HLSP/hlsp_eleanor_tess_ffi_postcard-s0006-4-4-cal-0314-1780_tess_v2_pc/hlsp_eleanor_tess_ffi_postcard-s0006-4-4-cal-0314-1780_tess_v2_bkg.fits ... [Done]\n",
      "Downloading URL https://mast.stsci.edu/api/v0.1/Download/file?uri=mast:HLSP/eleanor/postcards/s0006/4-4/hlsp_eleanor_tess_ffi_postcard-s0006-4-4-cal-0314-1780_tess_v2_pc.fits to /home/ana/.eleanor/mastDownload/HLSP/hlsp_eleanor_tess_ffi_postcard-s0006-4-4-cal-0314-1780_tess_v2_pc/hlsp_eleanor_tess_ffi_postcard-s0006-4-4-cal-0314-1780_tess_v2_pc.fits ... [Done]\n",
      "Downloading URL https://mast.stsci.edu/api/v0.1/Download/file?uri=mast:HLSP/eleanor/postcards/s0007/4-4/hlsp_eleanor_tess_ffi_postcard-s0007-4-4-cal-0412-1942_tess_v2_bkg.fits to /home/ana/.eleanor/mastDownload/HLSP/hlsp_eleanor_tess_ffi_postcard-s0007-4-4-cal-0412-1942_tess_v2_pc/hlsp_eleanor_tess_ffi_postcard-s0007-4-4-cal-0412-1942_tess_v2_bkg.fits ... [Done]\n",
      "Downloading URL https://mast.stsci.edu/api/v0.1/Download/file?uri=mast:HLSP/eleanor/postcards/s0007/4-4/hlsp_eleanor_tess_ffi_postcard-s0007-4-4-cal-0412-1942_tess_v2_pc.fits to /home/ana/.eleanor/mastDownload/HLSP/hlsp_eleanor_tess_ffi_postcard-s0007-4-4-cal-0412-1942_tess_v2_pc/hlsp_eleanor_tess_ffi_postcard-s0007-4-4-cal-0412-1942_tess_v2_pc.fits ... [Done]\n",
      "Downloading URL https://mast.stsci.edu/api/v0.1/Download/file?uri=mast:HLSP/eleanor/postcards/s0008/4-1/hlsp_eleanor_tess_ffi_postcard-s0008-4-1-cal-1686-1996_tess_v2_bkg.fits to /home/ana/.eleanor/mastDownload/HLSP/hlsp_eleanor_tess_ffi_postcard-s0008-4-1-cal-1686-1996_tess_v2_pc/hlsp_eleanor_tess_ffi_postcard-s0008-4-1-cal-1686-1996_tess_v2_bkg.fits ... [Done]\n",
      "Downloading URL https://mast.stsci.edu/api/v0.1/Download/file?uri=mast:HLSP/eleanor/postcards/s0008/4-1/hlsp_eleanor_tess_ffi_postcard-s0008-4-1-cal-1686-1996_tess_v2_pc.fits to /home/ana/.eleanor/mastDownload/HLSP/hlsp_eleanor_tess_ffi_postcard-s0008-4-1-cal-1686-1996_tess_v2_pc/hlsp_eleanor_tess_ffi_postcard-s0008-4-1-cal-1686-1996_tess_v2_pc.fits ... [Done]\n",
      "Downloading URL https://mast.stsci.edu/api/v0.1/Download/file?uri=mast:HLSP/eleanor/postcards/s0009/4-1/hlsp_eleanor_tess_ffi_postcard-s0009-4-1-cal-1784-1834_tess_v2_bkg.fits to /home/ana/.eleanor/mastDownload/HLSP/hlsp_eleanor_tess_ffi_postcard-s0009-4-1-cal-1784-1834_tess_v2_pc/hlsp_eleanor_tess_ffi_postcard-s0009-4-1-cal-1784-1834_tess_v2_bkg.fits ... [Done]\n",
      "Downloading URL https://mast.stsci.edu/api/v0.1/Download/file?uri=mast:HLSP/eleanor/postcards/s0009/4-1/hlsp_eleanor_tess_ffi_postcard-s0009-4-1-cal-1784-1834_tess_v2_pc.fits to /home/ana/.eleanor/mastDownload/HLSP/hlsp_eleanor_tess_ffi_postcard-s0009-4-1-cal-1784-1834_tess_v2_pc/hlsp_eleanor_tess_ffi_postcard-s0009-4-1-cal-1784-1834_tess_v2_pc.fits ... [Done]\n",
      "Downloading URL https://mast.stsci.edu/api/v0.1/Download/file?uri=mast:HLSP/eleanor/postcards/s0010/4-1/hlsp_eleanor_tess_ffi_postcard-s0010-4-1-cal-1882-1726_tess_v2_bkg.fits to /home/ana/.eleanor/mastDownload/HLSP/hlsp_eleanor_tess_ffi_postcard-s0010-4-1-cal-1882-1726_tess_v2_pc/hlsp_eleanor_tess_ffi_postcard-s0010-4-1-cal-1882-1726_tess_v2_bkg.fits ... [Done]\n",
      "Downloading URL https://mast.stsci.edu/api/v0.1/Download/file?uri=mast:HLSP/eleanor/postcards/s0010/4-1/hlsp_eleanor_tess_ffi_postcard-s0010-4-1-cal-1882-1726_tess_v2_pc.fits to /home/ana/.eleanor/mastDownload/HLSP/hlsp_eleanor_tess_ffi_postcard-s0010-4-1-cal-1882-1726_tess_v2_pc/hlsp_eleanor_tess_ffi_postcard-s0010-4-1-cal-1882-1726_tess_v2_pc.fits ... [Done]\n",
      "Downloading URL https://mast.stsci.edu/api/v0.1/Download/file?uri=mast:HLSP/eleanor/postcards/s0012/4-2/hlsp_eleanor_tess_ffi_postcard-s0012-4-2-cal-0118-1672_tess_v2_bkg.fits to /home/ana/.eleanor/mastDownload/HLSP/hlsp_eleanor_tess_ffi_postcard-s0012-4-2-cal-0118-1672_tess_v2_pc/hlsp_eleanor_tess_ffi_postcard-s0012-4-2-cal-0118-1672_tess_v2_bkg.fits ... [Done]\n",
      "Downloading URL https://mast.stsci.edu/api/v0.1/Download/file?uri=mast:HLSP/eleanor/postcards/s0012/4-2/hlsp_eleanor_tess_ffi_postcard-s0012-4-2-cal-0118-1672_tess_v2_pc.fits to /home/ana/.eleanor/mastDownload/HLSP/hlsp_eleanor_tess_ffi_postcard-s0012-4-2-cal-0118-1672_tess_v2_pc/hlsp_eleanor_tess_ffi_postcard-s0012-4-2-cal-0118-1672_tess_v2_pc.fits ... [Done]\n",
      "Downloading URL https://mast.stsci.edu/api/v0.1/Download/file?uri=mast:HLSP/eleanor/postcards/s0013/4-2/hlsp_eleanor_tess_ffi_postcard-s0013-4-2-cal-0314-1834_tess_v2_bkg.fits to /home/ana/.eleanor/mastDownload/HLSP/hlsp_eleanor_tess_ffi_postcard-s0013-4-2-cal-0314-1834_tess_v2_pc/hlsp_eleanor_tess_ffi_postcard-s0013-4-2-cal-0314-1834_tess_v2_bkg.fits ... [Done]\n",
      "Downloading URL https://mast.stsci.edu/api/v0.1/Download/file?uri=mast:HLSP/eleanor/postcards/s0013/4-2/hlsp_eleanor_tess_ffi_postcard-s0013-4-2-cal-0314-1834_tess_v2_pc.fits to /home/ana/.eleanor/mastDownload/HLSP/hlsp_eleanor_tess_ffi_postcard-s0013-4-2-cal-0314-1834_tess_v2_pc/hlsp_eleanor_tess_ffi_postcard-s0013-4-2-cal-0314-1834_tess_v2_pc.fits ... [Done]\n",
      "2\n"
     ]
    },
    {
     "name": "stderr",
     "output_type": "stream",
     "text": [
      "WARNING: FITSFixedWarning: 'datfix' made the change 'Set MJD-OBS to 58353.603470 from DATE-OBS.\n",
      "Set DATE-BEG to '2018-08-23T14:30:09.031' from MJD-BEG'. [astropy.wcs.wcs]\n",
      "WARNING: The \"exact\" method is not yet implemented for rectangular apertures -- using \"subpixel\" method with \"subpixels=32\" [photutils.aperture.core]\n"
     ]
    },
    {
     "name": "stdout",
     "output_type": "stream",
     "text": [
      "3\n"
     ]
    },
    {
     "name": "stderr",
     "output_type": "stream",
     "text": [
      "WARNING: FITSFixedWarning: 'datfix' made the change 'Set MJD-OBS to 58381.540973 from DATE-OBS.\n",
      "Set DATE-BEG to '2018-09-20T13:00:09.232' from MJD-BEG'. [astropy.wcs.wcs]\n",
      "WARNING: The \"exact\" method is not yet implemented for rectangular apertures -- using \"subpixel\" method with \"subpixels=32\" [photutils.aperture.core]\n"
     ]
    },
    {
     "name": "stdout",
     "output_type": "stream",
     "text": [
      "4\n"
     ]
    },
    {
     "name": "stderr",
     "output_type": "stream",
     "text": [
      "WARNING: The \"exact\" method is not yet implemented for rectangular apertures -- using \"subpixel\" method with \"subpixels=32\" [photutils.aperture.core]\n"
     ]
    },
    {
     "name": "stdout",
     "output_type": "stream",
     "text": [
      "5\n"
     ]
    },
    {
     "name": "stderr",
     "output_type": "stream",
     "text": [
      "WARNING: FITSFixedWarning: 'datfix' made the change 'Set MJD-OBS to 58437.478179 from DATE-OBS.\n",
      "Set DATE-BEG to '2018-11-15T11:29:43.834' from MJD-BEG'. [astropy.wcs.wcs]\n",
      "WARNING: The \"exact\" method is not yet implemented for rectangular apertures -- using \"subpixel\" method with \"subpixels=32\" [photutils.aperture.core]\n"
     ]
    },
    {
     "name": "stdout",
     "output_type": "stream",
     "text": [
      "6\n"
     ]
    },
    {
     "name": "stderr",
     "output_type": "stream",
     "text": [
      "WARNING: FITSFixedWarning: 'datfix' made the change 'Set MJD-OBS to 58467.769873 from DATE-OBS.\n",
      "Set DATE-BEG to '2018-12-15T18:29:46.237' from MJD-BEG'. [astropy.wcs.wcs]\n",
      "WARNING: The \"exact\" method is not yet implemented for rectangular apertures -- using \"subpixel\" method with \"subpixels=32\" [photutils.aperture.core]\n"
     ]
    },
    {
     "name": "stdout",
     "output_type": "stream",
     "text": [
      "7\n"
     ]
    },
    {
     "name": "stderr",
     "output_type": "stream",
     "text": [
      "WARNING: FITSFixedWarning: 'datfix' made the change 'Set MJD-OBS to 58491.123983 from DATE-OBS.\n",
      "Set DATE-BEG to '2019-01-08T02:59:41.285' from MJD-BEG'. [astropy.wcs.wcs]\n",
      "WARNING: The \"exact\" method is not yet implemented for rectangular apertures -- using \"subpixel\" method with \"subpixels=32\" [photutils.aperture.core]\n"
     ]
    },
    {
     "name": "stdout",
     "output_type": "stream",
     "text": [
      "8\n"
     ]
    },
    {
     "name": "stderr",
     "output_type": "stream",
     "text": [
      "WARNING: FITSFixedWarning: 'datfix' made the change 'Set MJD-OBS to 58516.854349 from DATE-OBS.\n",
      "Set DATE-BEG to '2019-02-02T20:31:24.935' from MJD-BEG'. [astropy.wcs.wcs]\n",
      "WARNING: The \"exact\" method is not yet implemented for rectangular apertures -- using \"subpixel\" method with \"subpixels=32\" [photutils.aperture.core]\n"
     ]
    },
    {
     "name": "stdout",
     "output_type": "stream",
     "text": [
      "9\n",
      "INFO: \n",
      "                Inconsistent SIP distortion information is present in the FITS header and the WCS object:\n",
      "                SIP coefficients were detected, but CTYPE is missing a \"-SIP\" suffix.\n",
      "                astropy.wcs is using the SIP distortion coefficients,\n",
      "                therefore the coordinates calculated here might be incorrect.\n",
      "\n",
      "                If you do not want to apply the SIP distortion coefficients,\n",
      "                please remove the SIP coefficients from the FITS header or the\n",
      "                WCS object.  As an example, if the image is already distortion-corrected\n",
      "                (e.g., drizzled) then distortion components should not apply and the SIP\n",
      "                coefficients should be removed.\n",
      "\n",
      "                While the SIP distortion coefficients are being applied here, if that was indeed the intent,\n",
      "                for consistency please append \"-SIP\" to the CTYPE in the FITS header or the WCS object.\n",
      "\n",
      "                 [astropy.wcs.wcs]\n"
     ]
    },
    {
     "name": "stderr",
     "output_type": "stream",
     "text": [
      "WARNING: FITSFixedWarning: 'datfix' made the change 'Set MJD-OBS to 58542.729338 from DATE-OBS.\n",
      "Set DATE-BEG to '2019-02-28T17:31:23.974' from MJD-BEG'. [astropy.wcs.wcs]\n",
      "WARNING: The \"exact\" method is not yet implemented for rectangular apertures -- using \"subpixel\" method with \"subpixels=32\" [photutils.aperture.core]\n"
     ]
    },
    {
     "name": "stdout",
     "output_type": "stream",
     "text": [
      "10\n",
      "INFO: \n",
      "                Inconsistent SIP distortion information is present in the FITS header and the WCS object:\n",
      "                SIP coefficients were detected, but CTYPE is missing a \"-SIP\" suffix.\n",
      "                astropy.wcs is using the SIP distortion coefficients,\n",
      "                therefore the coordinates calculated here might be incorrect.\n",
      "\n",
      "                If you do not want to apply the SIP distortion coefficients,\n",
      "                please remove the SIP coefficients from the FITS header or the\n",
      "                WCS object.  As an example, if the image is already distortion-corrected\n",
      "                (e.g., drizzled) then distortion components should not apply and the SIP\n",
      "                coefficients should be removed.\n",
      "\n",
      "                While the SIP distortion coefficients are being applied here, if that was indeed the intent,\n",
      "                for consistency please append \"-SIP\" to the CTYPE in the FITS header or the WCS object.\n",
      "\n",
      "                 [astropy.wcs.wcs]\n"
     ]
    },
    {
     "name": "stderr",
     "output_type": "stream",
     "text": [
      "WARNING: FITSFixedWarning: 'datfix' made the change 'Set MJD-OBS to 58568.937658 from DATE-OBS.\n",
      "Set DATE-BEG to '2019-03-26T22:31:22.810' from MJD-BEG'. [astropy.wcs.wcs]\n",
      "WARNING: The \"exact\" method is not yet implemented for rectangular apertures -- using \"subpixel\" method with \"subpixels=32\" [photutils.aperture.core]\n"
     ]
    },
    {
     "name": "stdout",
     "output_type": "stream",
     "text": [
      "12\n",
      "INFO: \n",
      "                Inconsistent SIP distortion information is present in the FITS header and the WCS object:\n",
      "                SIP coefficients were detected, but CTYPE is missing a \"-SIP\" suffix.\n",
      "                astropy.wcs is using the SIP distortion coefficients,\n",
      "                therefore the coordinates calculated here might be incorrect.\n",
      "\n",
      "                If you do not want to apply the SIP distortion coefficients,\n",
      "                please remove the SIP coefficients from the FITS header or the\n",
      "                WCS object.  As an example, if the image is already distortion-corrected\n",
      "                (e.g., drizzled) then distortion components should not apply and the SIP\n",
      "                coefficients should be removed.\n",
      "\n",
      "                While the SIP distortion coefficients are being applied here, if that was indeed the intent,\n",
      "                for consistency please append \"-SIP\" to the CTYPE in the FITS header or the WCS object.\n",
      "\n",
      "                 [astropy.wcs.wcs]\n"
     ]
    },
    {
     "name": "stderr",
     "output_type": "stream",
     "text": [
      "WARNING: FITSFixedWarning: 'datfix' made the change 'Set MJD-OBS to 58624.458771 from DATE-OBS.\n",
      "Set DATE-BEG to '2019-05-21T11:01:47.002' from MJD-BEG'. [astropy.wcs.wcs]\n",
      "WARNING: The \"exact\" method is not yet implemented for rectangular apertures -- using \"subpixel\" method with \"subpixels=32\" [photutils.aperture.core]\n"
     ]
    },
    {
     "name": "stdout",
     "output_type": "stream",
     "text": [
      "13\n",
      "INFO: \n",
      "                Inconsistent SIP distortion information is present in the FITS header and the WCS object:\n",
      "                SIP coefficients were detected, but CTYPE is missing a \"-SIP\" suffix.\n",
      "                astropy.wcs is using the SIP distortion coefficients,\n",
      "                therefore the coordinates calculated here might be incorrect.\n",
      "\n",
      "                If you do not want to apply the SIP distortion coefficients,\n",
      "                please remove the SIP coefficients from the FITS header or the\n",
      "                WCS object.  As an example, if the image is already distortion-corrected\n",
      "                (e.g., drizzled) then distortion components should not apply and the SIP\n",
      "                coefficients should be removed.\n",
      "\n",
      "                While the SIP distortion coefficients are being applied here, if that was indeed the intent,\n",
      "                for consistency please append \"-SIP\" to the CTYPE in the FITS header or the WCS object.\n",
      "\n",
      "                 [astropy.wcs.wcs]\n"
     ]
    },
    {
     "name": "stderr",
     "output_type": "stream",
     "text": [
      "WARNING: FITSFixedWarning: 'datfix' made the change 'Set MJD-OBS to 58653.417091 from DATE-OBS.\n",
      "Set DATE-BEG to '2019-06-19T10:01:45.855' from MJD-BEG'. [astropy.wcs.wcs]\n",
      "WARNING: The \"exact\" method is not yet implemented for rectangular apertures -- using \"subpixel\" method with \"subpixels=32\" [photutils.aperture.core]\n"
     ]
    }
   ],
   "source": [
    "e0 = 1\n",
    "for e, sid in enumerate(gid[e0:10]):\n",
    "    e += e0\n",
    "    print(e, sid)\n",
    "    \n",
    "    # get source information\n",
    "    sectors = get_source(sid, smax=21)\n",
    "    \n",
    "    # measure tess fluxes in all available sectors\n",
    "    data = get_fluxes(sectors)\n",
    "    \n",
    "    # extract light curves\n",
    "    outdict = extract_lightcurve(data)\n",
    "    \n",
    "    # save data\n",
    "    tout = Table(outdict)\n",
    "    tout.write('../data/bulk/lc_{:04d}.fits'.format(e), overwrite=True)\n"
   ]
  },
  {
   "cell_type": "code",
   "execution_count": null,
   "metadata": {},
   "outputs": [],
   "source": []
  }
 ],
 "metadata": {
  "kernelspec": {
   "display_name": "Python 3",
   "language": "python",
   "name": "python3"
  },
  "language_info": {
   "codemirror_mode": {
    "name": "ipython",
    "version": 3
   },
   "file_extension": ".py",
   "mimetype": "text/x-python",
   "name": "python",
   "nbconvert_exporter": "python",
   "pygments_lexer": "ipython3",
   "version": "3.6.10"
  }
 },
 "nbformat": 4,
 "nbformat_minor": 2
}
